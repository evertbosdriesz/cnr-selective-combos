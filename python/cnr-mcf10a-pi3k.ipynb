{
 "cells": [
  {
   "cell_type": "markdown",
   "metadata": {
    "Collapsed": "false"
   },
   "source": [
    "# CNR reconstructions of MCF10A parental and PI3K mutant cells\n",
    "\n",
    "## Background & summary\n",
    "\n",
    "In this notebook, we perform Comparative Network Reconstruction (CNR) on MCF10A parental en PI3K mutant cells.\n",
    "This is based on perturbation data of single inhibitors at 2 concentrations (~IC50 and IC90), and selected combinations.\n",
    "Network reconstructions will be done based mainly on a known topology, although we do explore the effect of additional edges. \n",
    "\n",
    "To select how many and which edges should be added, we perform leave-one-out cross-validation (loocv).\n",
    "The loocv will only be done on the drug combinations (but in the networks reconstructions the single drug data is included).\n",
    "This is because when leaving out (high-concentration) single drug samples, we don't get estimates for the direct perturbation effect, which we need to predict the response of the held-out sample.\n",
    "Only edges that are recurrently added in loocv solutions with hyper-parameter settings that lead to good performance are retained.\n",
    "\n",
    "##  Data and model preparation\n",
    "\n",
    "Input data:\n",
    "\n",
    "  * Remove uninformative Treatments and Epitopes (Akt1 and GSKi)\n",
    "  * Rename columns to be consistent with Envision data"
   ]
  },
  {
   "cell_type": "code",
   "execution_count": 1,
   "metadata": {
    "Collapsed": "false"
   },
   "outputs": [
    {
     "name": "stderr",
     "output_type": "stream",
     "text": [
      "/Users/evertbosdriesz/miniconda3/envs/mcf10a-pi3k/lib/python3.6/site-packages/statsmodels/tools/_testing.py:19: FutureWarning: pandas.util.testing is deprecated. Use the functions in the public API at pandas.testing instead.\n",
      "  import pandas.util.testing as tm\n"
     ]
    }
   ],
   "source": [
    "import pandas as pd\n",
    "import cnr\n",
    "import cnr.cnrplot\n",
    "import scipy.optimize\n",
    "import seaborn as sns\n",
    "import matplotlib.pyplot as plt\n",
    "import numpy as np\n",
    "import networkx as nx\n",
    "import cplex\n",
    "import re\n",
    "import sympy\n",
    "import random\n",
    "import statsmodels.stats.multitest\n",
    "import itertools\n",
    "import statistics\n",
    "\n",
    "%load_ext autoreload\n",
    "%autoreload 2\n",
    "%matplotlib inline\n",
    "\n",
    "# Set plotting defaults\n",
    "from matplotlib import rcParams\n",
    "rcParams['font.family'] = 'sans-serif'\n",
    "rcParams['font.sans-serif'] = ['Helvetica']\n",
    "# rcParams['mathtext.rm'] = 'Palatino'\n",
    "\n",
    "# Fix some font issues\n",
    "import matplotlib\n",
    "matplotlib.rcParams['pdf.fonttype'] = 42\n",
    "matplotlib.rcParams['ps.fonttype'] = 42\n",
    "\n",
    "\n",
    "SMALL_SIZE = 6\n",
    "MEDIUM_SIZE = 8\n",
    "BIGGER_SIZE = 10\n",
    "\n",
    "plt.rc('font', size= BIGGER_SIZE)          # controls default text sizes\n",
    "plt.rc('axes', titlesize=BIGGER_SIZE)     # fontsize of the axes title\n",
    "plt.rc('axes', labelsize=BIGGER_SIZE)    # fontsize of the x and y labels\n",
    "plt.rc('xtick', labelsize=BIGGER_SIZE)    # fontsize of the tick labels\n",
    "plt.rc('ytick', labelsize=BIGGER_SIZE)    # fontsize of the tick labels\n",
    "plt.rc('legend', fontsize=BIGGER_SIZE)    # legend fontsize\n",
    "plt.rc('figure', titlesize=BIGGER_SIZE)  # fontsize of the figure title\n",
    "\n",
    "def cm2inch(*tupl):\n",
    "    inch = 2.54\n",
    "    if isinstance(tupl[0], tuple):\n",
    "        return tuple(i/inch for i in tupl[0])\n",
    "    else:\n",
    "        return tuple(i/inch for i in tupl)\n"
   ]
  },
  {
   "cell_type": "code",
   "execution_count": 2,
   "metadata": {
    "Collapsed": "false"
   },
   "outputs": [],
   "source": [
    "wt = pd.read_csv(\"../results/perturbations/wt-luminex-lfc.tsv\",\n",
    "                 sep=\"\\t\", index_col=0)\n",
    "pi3k = pd.read_csv(\"../results/perturbations/pi3k-luminex-lfc.tsv\",\n",
    "                   sep=\"\\t\", index_col=0)\n",
    "\n",
    "\n",
    "# Remove uninformative Treatements and Epitopes\n",
    "wt.index.name = None\n",
    "pi3k.index.name = None\n",
    "wt = wt.drop(\"Akt1\").drop(['FGFRi 0.1uM'], axis=1)\n",
    "pi3k = pi3k.drop(\"Akt1\").drop(['FGFRi 0.1uM'], axis=1)\n",
    "# wt = wt.drop(\"Akt1\").drop(['FGFRi 0.1uM', 'GSK3i 2uM', 'GSK3i 5uM'], axis=1)\n",
    "# pi3k = pi3k.drop(\"Akt1\").drop(['FGFRi 0.1uM', 'GSK3i 2uM', 'GSK3i 5uM'], axis=1)\n",
    "\n",
    "# Rename columns\n",
    "\n",
    "\n",
    "def clean_colname(s):\n",
    "    return s.replace(\" \", \"\").replace(\".\", \"\").replace(\"+\", \"_\")\n",
    "\n",
    "\n",
    "wt.columns = [clean_colname(s) for s in list(wt.columns)]\n",
    "pi3k.columns = [clean_colname(s) for s in list(pi3k.columns)]\n",
    "\n",
    "col_dict = {\"wt\": \"#984EA3\", \"pi3k\": \"#4DAF4A\"}\n",
    "\n",
    "COMBO_NAMES = [c for c in wt.columns if len(c.split(\"_\")) > 1]\n",
    "rglob_measured = {\"wt\":wt[COMBO_NAMES], \"pi3k\": pi3k[COMBO_NAMES]}\n",
    "\n",
    "# Parameters mapping of signaling to viability\n",
    "df_mapping = pd.read_csv(\n",
    "    '../results/perturbations/signaling-viability-parameters.tsv', \n",
    "    sep='\\t', index_col=0\n",
    ")\n",
    "df_mapping\n",
    "\n",
    "\n",
    "#KM_ERK_WT = df_mapping['estimate'][\"WT\"]\n",
    "# KM_AKT = df_mapping['estimate'][\"KM_BioAkt\"]\n",
    "KM_ERK_WT = df_mapping[df_mapping.term == \"KM_ERK1\"][\"estimate\"][\"WT\"]\n",
    "KM_ERK_PI3K = df_mapping[df_mapping.term == \"KM_ERK1\"][\"estimate\"][\"PI3K\"]\n",
    "KM_AKT_WT = df_mapping[df_mapping.term == \"KM_BioAkt\"][\"estimate\"][\"WT\"]\n",
    "KM_AKT_PI3K = df_mapping[df_mapping.term == \"KM_BioAkt\"][\"estimate\"][\"PI3K\"]"
   ]
  },
  {
   "cell_type": "markdown",
   "metadata": {
    "Collapsed": "false"
   },
   "source": [
    "Annotations required for CNR:\n",
    "\n",
    "  * List of node names (NODES)\n",
    "  * List of annotations for the perturbations (PERTURBATIONS)\n",
    "  * Dict of perturabtion target annotations (PERTS_ANNOT)\n",
    "  * List of inhibitors that act downstream of their direct target (DOWNSTREAM_ACTING_INHIBITORS)\n",
    "  * List of known interactions (GIVEN_EDGES)\n",
    "  * Upper/lower bounds on the parameter values. We use 1.5x of the highest response (BOUNDS, optional).\n",
    "  \n",
    " These are defined in the file model.py"
   ]
  },
  {
   "cell_type": "code",
   "execution_count": 3,
   "metadata": {
    "Collapsed": "false"
   },
   "outputs": [
    {
     "name": "stdout",
     "output_type": "stream",
     "text": [
      "NODES:\n",
      " ('EGFR', 'MEK1', 'ERK1', 'GSK3', 'CREB1', 'BioAkt', 'PRAS40', 'P70S6K', 'RS6')\n",
      "\n",
      "PERTURBATIONS:\n",
      " [['IGF1Ri3uMmek', 'IGF1Ri3uMakt'], ['IGF1Ri10uMmek', 'IGF1Ri10uMakt'], ['EGFRi03uM'], ['EGFRi1uM'], ['RAFi1uM'], ['MEKi0002uM', 'MEKi0002uMds'], ['MEKi002uM', 'MEKi002uMds'], ['ERKi002uM'], ['ERKi04uM'], ['GSK3i2uM'], ['GSK3i5uM'], ['PI3Ki1uM'], ['PI3Ki2uM'], ['AKTi1uM'], ['AKTi5uM'], ['mTORi001uMmtorc1', 'mTORi001uMmtorc2'], ['mTORi03uMmtorc1', 'mTORi03uMmtorc2'], ['EGFRi03uM', 'IGF1Ri3uMmek', 'IGF1Ri3uMakt'], ['EGFRi03uM', 'MEKi0002uM', 'MEKi0002uMds'], ['EGFRi03uM', 'ERKi002uM'], ['MEKi0002uM', 'MEKi0002uMds', 'ERKi002uM'], ['IGF1Ri3uMmek', 'IGF1Ri3uMakt', 'AKTi1uM'], ['IGF1Ri3uMmek', 'IGF1Ri3uMakt', 'mTORi001uMmtorc1', 'mTORi001uMmtorc2'], ['PI3Ki1uM', 'mTORi001uMmtorc1', 'mTORi001uMmtorc2'], ['AKTi1uM', 'mTORi001uMmtorc1', 'mTORi001uMmtorc2'], ['EGFRi03uM', 'PI3Ki1uM'], ['EGFRi03uM', 'AKTi1uM'], ['EGFRi03uM', 'mTORi001uMmtorc1', 'mTORi001uMmtorc2'], ['MEKi0002uM', 'MEKi0002uMds', 'PI3Ki1uM'], ['ERKi002uM', 'PI3Ki1uM'], ['ERKi002uM', 'AKTi1uM']]\n",
      "\n",
      "PERTS_ANNOT:\n",
      " {'AKTi1uM': 'BioAkt', 'AKTi5uM': 'BioAkt', 'EGFRi03uM': 'EGFR', 'EGFRi1uM': 'EGFR', 'ERKi002uM': 'ERK1', 'ERKi04uM': 'ERK1', 'IGF1Ri10uMmek': 'MEK1', 'IGF1Ri3uMmek': 'MEK1', 'IGF1Ri10uMakt': 'BioAkt', 'IGF1Ri3uMakt': 'BioAkt', 'MEKi0002uM': 'MEK1', 'MEKi002uM': 'MEK1', 'MEKi0002uMds': 'MEK1', 'MEKi002uMds': 'MEK1', 'GSK3i2uM': 'GSK3', 'GSK3i5uM': 'GSK3', 'PI3Ki1uM': 'BioAkt', 'PI3Ki2uM': 'BioAkt', 'RAFi1uM': 'MEK1', 'mTORi001uMmtorc2': 'BioAkt', 'mTORi03uMmtorc2': 'BioAkt', 'mTORi001uMmtorc1': 'P70S6K', 'mTORi03uMmtorc1': 'P70S6K'}\n",
      "\n",
      "DOWNSTREAM_ACTING_INHIBITORS:\n",
      " ['MEKi0002uMds', 'MEKi002uMds']\n",
      "\n",
      "GIVEN_EDGES:\n",
      " [('EGFR', 'ERK1'), ('MEK1', 'EGFR'), ('ERK1', 'MEK1'), ('GSK3', 'ERK1'), ('GSK3', 'BioAkt'), ('BioAkt', 'EGFR'), ('BioAkt', 'PRAS40'), ('PRAS40', 'BioAkt'), ('P70S6K', 'PRAS40'), ('RS6', 'P70S6K'), ('RS6', 'ERK1'), ('CREB1', 'ERK1')]\n",
      "\n",
      "INHIB_TARGET_PAIRS:\n",
      " {('MEKi', 'MEK1'), ('mTORi', 'P70S6K'), ('MEKi', 'ERK1'), ('GSK3i', 'GSK3'), ('mTORi', 'BioAkt'), ('MEKi', 'EGFR'), ('MEKi', 'BioAkt'), ('RAFi', 'MEK1'), ('MEKi', 'RS6'), ('MEKi', 'CREB1'), ('MEKi', 'P70S6K'), ('MEKi', 'PRAS40'), ('MEKi', 'GSK3'), ('ERKi', 'ERK1'), ('AKTi', 'BioAkt'), ('EGFRi', 'EGFR'), ('IGF1Ri', 'MEK1'), ('IGF1Ri', 'BioAkt'), ('PI3Ki', 'BioAkt')}\n"
     ]
    }
   ],
   "source": [
    "from model import *\n",
    "\n",
    "print(\"NODES:\\n\", NODES)\n",
    "\n",
    "print(\"\\nPERTURBATIONS:\\n\", PERTURBATIONS)\n",
    "\n",
    "print(\"\\nPERTS_ANNOT:\\n\", PERTS_ANNOT)\n",
    "\n",
    "print(\"\\nDOWNSTREAM_ACTING_INHIBITORS:\\n\", DOWNSTREAM_ACTING_INHIBITORS)\n",
    "\n",
    "print(\"\\nGIVEN_EDGES:\\n\", GIVEN_EDGES)\n",
    "\n",
    "print(\"\\nINHIB_TARGET_PAIRS:\\n\", INHIB_TARGET_PAIRS)\n",
    "\n",
    "# Restrict parameter values to maximally 1.5x the highest overall measured response\n",
    "BOUNDS = 1.5*max(wt.abs().max().max(), pi3k.abs().max().max())"
   ]
  },
  {
   "cell_type": "markdown",
   "metadata": {
    "Collapsed": "false"
   },
   "source": [
    "What does the perturbation data look like?"
   ]
  },
  {
   "cell_type": "code",
   "execution_count": 4,
   "metadata": {
    "Collapsed": "false"
   },
   "outputs": [
    {
     "data": {
      "image/png": "[encoded data removed]",
      "text/plain": [
       "<Figure size 1080x149.538 with 3 Axes>"
      ]
     },
     "metadata": {
      "needs_background": "light"
     },
     "output_type": "display_data"
    }
   ],
   "source": [
    "panel = cnr.PerturbationPanel(\n",
    "    NODES, PERTURBATIONS, PERTS_ANNOT, DOWNSTREAM_ACTING_INHIBITORS, \n",
    "    rglob = {\"WT\":wt, \"PI3K\":pi3k}\n",
    ")\n",
    "cnr.cnrplot.heatmap_cnr(panel.rglob, annot = False, vmin=-4, vmax=4)"
   ]
  },
  {
   "cell_type": "markdown",
   "metadata": {
    "Collapsed": "false"
   },
   "source": [
    "First, we need to define some helper functions to add constraints that are specific to this experimental setup, such as the fact that we have multiple doses per inhibitor).\n",
    "\n",
    "  1. We assume that a higher inhibitor concentration has a stronger effect. We add this as constraints to the CNR problem. \n",
    "  2. The direct target-inhibition effect of an inhibitor is either the same for all dosages, or allowed to differ for all."
   ]
  },
  {
   "cell_type": "code",
   "execution_count": 5,
   "metadata": {
    "Collapsed": "false"
   },
   "outputs": [],
   "source": [
    "def get_concentration_from_pertname(pert_name):\n",
    "    concentration = re.split(r\"(\\d+uM)\", pert_name)[1].replace(\"uM\", \"\")\n",
    "    if concentration[0] == \"0\":\n",
    "        concentration = \".\"+concentration[1:]\n",
    "    return float(concentration)\n",
    "\n",
    "\n",
    "def add_inhibitor_constraints(p, inhib_set):\n",
    "    # Collect all inhibitor-target combinations\n",
    "    rpvars = [var for var in p.cpx.variables.get_names(\n",
    "    ) if var.startswith(\"rp_\") or var.startswith(\"rpDS_\")]\n",
    "\n",
    "    # Generate a set of all inhibitor-target pairs\n",
    "    inhib_targets = set()\n",
    "    for inhib in list(inhib_set):\n",
    "        targets = set([v.split(\"_\")[3] for v in rpvars if inhib in v])\n",
    "        for t in targets:\n",
    "            inhib_targets.add((inhib, t))\n",
    "\n",
    "    # Generate set of all matching perturbation names:\n",
    "    # tuples of: Same inhibitor, same target, same cell-line, \n",
    "    # multiple concentrations.\n",
    "    # Sort based on name --> lowest concentration first\n",
    "    # Assume two concentrations per inhibitor-target pair\n",
    "    perturbations_matched_sorted = set()\n",
    "    for inhib, target in inhib_targets:\n",
    "        varnames = [var for var in rpvars if inhib in var and target in var]\n",
    "        for cl in p.cell_lines:\n",
    "            psm = tuple(sorted([var for var in varnames if cl in var]))\n",
    "            assert len(psm) == 2, psm\n",
    "            if (get_concentration_from_pertname(psm[0]) < \n",
    "                get_concentration_from_pertname(psm[1])):\n",
    "                perturbations_matched_sorted.add(psm)\n",
    "            else:\n",
    "                perturbations_matched_sorted.add(tuple(reversed(psm)))\n",
    "\n",
    "    # Add the constraints:\n",
    "    # p_low - p_high > 0\n",
    "    # This assumes p_low and p_high are negative\n",
    "    constraints = []\n",
    "    for p_low, p_high in perturbations_matched_sorted:\n",
    "        constraints.append(cplex.SparsePair(\n",
    "            ind=[p_low, p_high], val=[1.0, -1.0]))\n",
    "    p.cpx.linear_constraints.add(\n",
    "        lin_expr=constraints,\n",
    "        senses=['G']*len(constraints), rhs=[0.]*len(constraints)\n",
    "    )\n",
    "    \n",
    "# Merge the indicators for each inhibor-target pair (multiple concentrations)\n",
    "def select_indicators_to_merge(inhib, target, var_list):\n",
    "    # Get the relevant variables\n",
    "    rpvars = [var for var in var_list if \n",
    "                  var.startswith(\"rp\")\n",
    "                 and inhib in var.split(\"_\")[2]\n",
    "                 and var.split(\"_\")[3] == target]\n",
    "    # Match the variables to the indicators\n",
    "    indicators = set()\n",
    "    for rpvar in rpvars:\n",
    "        rpvar = rpvar.split(\"_\")\n",
    "        indicators.update([\"_\".join([\"I\"+rpvar[0]+\"Dev\"] + rpvar[2:])])        \n",
    "    return list(indicators)\n",
    "\n",
    "\n",
    "# Merge the indicators for each inhibor-target pair (multiple concentrations)\n",
    "def select_indicators_to_merge(inhib, target, var_list):\n",
    "    # Get the relevant variables\n",
    "    rpvars = [var for var in var_list if \n",
    "                  var.startswith(\"rp\")\n",
    "                 and inhib in var.split(\"_\")[2]\n",
    "                 and var.split(\"_\")[3] == target]\n",
    "    # Match the variables to the indicators\n",
    "    indicators = set()\n",
    "    for rpvar in rpvars:\n",
    "        rpvar = rpvar.split(\"_\")\n",
    "        indicators.update([\"_\".join([\"I\"+rpvar[0]+\"Dev\"] + rpvar[2:])])        \n",
    "    return list(indicators)"
   ]
  },
  {
   "cell_type": "markdown",
   "metadata": {
    "Collapsed": "false"
   },
   "source": [
    "## Leave one out cross validation to select model complexity\n",
    "\n",
    "We explore the model fitting by performing a leave-one-out cross-validation like analysis.\n",
    "We will only leave out drug combination measurements, because we cannot make predictions about inhibitor-concentrations that are not included in the reconstruction.\n",
    "\n",
    "To assess model performance, we'll look at:\n",
    "\n",
    "  * the residuals of the reconstruction (which is what the method optimizes for)\n",
    "  * the prediction error in the predicted viability.\n",
    "  \n",
    "We relate the ERK and AKT response to the viability through:\n",
    "$$\\text{viability} = 1/\\left(1-\\frac{\\Delta ERK}{KM_{ERK}}-\\frac{\\Delta AKT}{KM_{AKT}}\\right)$$\n",
    "\n",
    "In another notebook we have estimated that $KM_{ERK}$ and $KM_{AKT}$ for both cell lines."
   ]
  },
  {
   "cell_type": "code",
   "execution_count": 6,
   "metadata": {
    "Collapsed": "false"
   },
   "outputs": [],
   "source": [
    "def loocv_train(test_col_idx, given_edges, eta, theta, bounds):\n",
    "    \"\"\"Train model leaving out the column test_col_idx\n",
    "    \n",
    "    Parameters:\n",
    "    test_col_idx: name of column to leave out\n",
    "    given_edges: list of tuple indicating which edges are included.\n",
    "    eta, theta, bounds: floats\n",
    "    \n",
    "    returns a tuple (test_col_idx, sol)\n",
    "    \"\"\"\n",
    "    # Get name of Rglob column to remove\n",
    "    test_col_name = wt.columns[test_col_idx]\n",
    "\n",
    "    # Remove perturbation\n",
    "    pert_copy = PERTURBATIONS.copy()\n",
    "    pert_copy.pop(test_col_idx)\n",
    "    \n",
    "    # Define the reduced perturbation panel\n",
    "    train_panel = cnr.PerturbationPanel(\n",
    "        NODES, pert_copy, PERTS_ANNOT, DOWNSTREAM_ACTING_INHIBITORS,        \n",
    "        rglob = {\"wt\":wt.drop(test_col_name, axis=1), \n",
    "                 \"pi3k\":pi3k.drop(test_col_name, axis=1)}\n",
    "    )\n",
    "    \n",
    "    # Define the CNR problem\n",
    "    p = cnr.CnrProblem(train_panel, eta=eta, theta=theta, bounds=bounds)\n",
    "    p.set_interactions_status(given_edges, 1)\n",
    "    p.set_edge_sign(POSITIVE_EDGES, \"pos\")\n",
    "    \n",
    "    # All perturbation are negative\n",
    "    p.set_pert_sign(\n",
    "        [(p_name, p_target) for p_name, p_target in PERTS_ANNOT.items()\n",
    "        if p_name not in DOWNSTREAM_ACTING_INHIBITORS], \"neg\")\n",
    "    \n",
    "    # Higher concentration have bigger effects\n",
    "    # RAFi is only measured at a single concentration\n",
    "    add_inhibitor_constraints(p, set(INHIBITORS)-{\"RAFi\"})\n",
    "\n",
    "    # Merge the indicators corresponding to the same inihibitor\n",
    "    for inhib, target in INHIB_TARGET_PAIRS:\n",
    "        indicators_to_merge = select_indicators_to_merge(\n",
    "            inhib, target, p.cpx.variables.get_names()\n",
    "        )\n",
    "        merged_indicator_name = \"_\".join(\n",
    "            [\"Imerged\".split(\"_\")[0], inhib, target])\n",
    "        p.merge_indicators(indicators_to_merge, merged_indicator_name)\n",
    "\n",
    "    p.cpx.solve()\n",
    "    return (test_col_name, cnr.CnrResult(p))\n",
    "\n",
    "def predict_combo(sol, combo):\n",
    "    d = dict()\n",
    "    for cl in [\"wt\", \"pi3k\"]:\n",
    "        rpert = pd.DataFrame(index = sol.nodes)\n",
    "        rpert[combo] = sol.rpert[cl][combo.split(\"_\")].sum(axis = 1)\n",
    "        rloc = sol.rloc[cl]\n",
    "        mat =  -np.dot(np.linalg.inv(rloc), rpert)\n",
    "        d[cl] = pd.DataFrame(mat, index = rpert.index, columns = rpert.columns)\n",
    "    return d\n",
    "\n",
    "def loocv_predict(loocv_sols):\n",
    "    # Input is list of form combo-name (str), solution (CnrResult)\n",
    "    prediction = {\n",
    "        'wt':   pd.DataFrame(index = loocv_sols[0][1].nodes),\n",
    "        'pi3k': pd.DataFrame(index = loocv_sols[0][1].nodes)\n",
    "    }\n",
    "    \n",
    "    for combo, sol in loocv_sols:\n",
    "        p = predict_combo(sol, combo)\n",
    "        prediction['wt'][combo] = p['wt']\n",
    "        prediction['pi3k'][combo] = p['pi3k']\n",
    "    return prediction\n",
    "\n",
    "def viability(ERK, AKT, CL):\n",
    "    assert CL in [\"wt\", \"pi3k\"]\n",
    "    if CL == \"wt\":\n",
    "        KM_ERK = KM_ERK_WT\n",
    "        KM_AKT = KM_AKT_WT\n",
    "    elif CL == \"pi3k\":\n",
    "        KM_ERK = KM_ERK_PI3K\n",
    "        KM_AKT = KM_AKT_PI3K\n",
    "\n",
    "    return (1/(1 -ERK/KM_ERK -AKT/KM_AKT))\n",
    "    \n",
    "def panel_predict_viability(prediction):\n",
    "    v = dict()\n",
    "    for cl, p in prediction.items():\n",
    "        rglob = p.transpose()\n",
    "        v[cl] = viability(rglob.ERK1, rglob.BioAkt, cl)\n",
    "    return v\n"
   ]
  },
  {
   "cell_type": "markdown",
   "metadata": {
    "Collapsed": "false"
   },
   "source": [
    "### Scan over hyper-parameters\n",
    "\n",
    "We scan over eta and theta to select best parameters to use.\n",
    "(Note: Running this scan takes some time, so we freeze these cells for now)"
   ]
  },
  {
   "cell_type": "code",
   "execution_count": null,
   "metadata": {
    "Collapsed": "false"
   },
   "outputs": [],
   "source": [
    "%%capture\n",
    "eta_vals = [0,  0.1, 0.5, 1, 2, 10, 100]\n",
    "theta_vals = [0, 0.01, 0.05, 0.1, 0.25, 1, 100]\n",
    "loocv_predictions = dict()\n",
    "loocv_viabilities = dict()\n",
    "loocv_solution = dict()\n",
    "for eta in eta_vals:\n",
    "    for theta in theta_vals:\n",
    "        loocv_sols = [loocv_train(i, given_edges=GIVEN_EDGES, eta=eta,\n",
    "                                  theta=theta, bounds=BOUNDS) \n",
    "                      for i in range(17, len(PERTURBATIONS))]\n",
    "        loocv_solution[(eta, theta)] = loocv_sols\n",
    "        loocv_prediction = loocv_predict(loocv_sols)\n",
    "        loocv_predictions[(eta, theta)] = loocv_prediction\n",
    "        loocv_viabilities[(eta, theta)] = panel_predict_viability(\n",
    "            loocv_prediction)"
   ]
  },
  {
   "cell_type": "code",
   "execution_count": null,
   "metadata": {
    "Collapsed": "false"
   },
   "outputs": [],
   "source": [
    "colnames = loocv_predictions[(0, 0)]['pi3k'].columns\n",
    "\n",
    "KM_ERK_WT, KM_AKT_WT = df_mapping[\"estimate\"].WT\n",
    "KM_ERK_PI3K, KM_AKT_PI3K = df_mapping[\"estimate\"].PI3K\n",
    "\n",
    "error_viability = dict()\n",
    "for param, viabilities in loocv_viabilities.items():\n",
    "    error_viability[param] = dict()\n",
    "    v_measure = panel_predict_viability(rglob_measured)\n",
    "    for cl, v_predict in viabilities.items():\n",
    "        error_viability[param][cl] = (v_predict - v_measure[cl]).pow(2).mean()"
   ]
  },
  {
   "cell_type": "code",
   "execution_count": 2,
   "metadata": {
    "Collapsed": "false"
   },
   "outputs": [
    {
     "ename": "NameError",
     "evalue": "name 'loocv_solution' is not defined",
     "output_type": "error",
     "traceback": [
      "\u001b[0;31m---------------------------------------------------------------------------\u001b[0m",
      "\u001b[0;31mNameError\u001b[0m                                 Traceback (most recent call last)",
      "\u001b[0;32m<ipython-input-2-e8189d46e0c6>\u001b[0m in \u001b[0;36m<module>\u001b[0;34m\u001b[0m\n\u001b[1;32m     13\u001b[0m \u001b[0;34m\u001b[0m\u001b[0m\n\u001b[1;32m     14\u001b[0m loocv_mssr = {param: get_mssr_from_loocv(\n\u001b[0;32m---> 15\u001b[0;31m     loocv_sols) for param, loocv_sols in loocv_solution.items()}\n\u001b[0m\u001b[1;32m     16\u001b[0m \u001b[0;34m\u001b[0m\u001b[0m\n\u001b[1;32m     17\u001b[0m error = {\"wt\": pd.DataFrame(index = wt.index),\n",
      "\u001b[0;31mNameError\u001b[0m: name 'loocv_solution' is not defined"
     ]
    }
   ],
   "source": [
    "def get_mssr_from_loocv(loocv_sols):\n",
    "    mssr = 0.\n",
    "    n = 0\n",
    "    for combo, sol in loocv_sols:\n",
    "        for cl in [\"wt\", \"pi3k\"]:\n",
    "            n += 1\n",
    "            rpert = sol.rpert[cl][combo.split(\"_\")].sum(axis=1)\n",
    "            res = (np.dot(sol.rloc[cl], rglob_measured[cl]\n",
    "                          [combo]) + rpert).pow(2).mean()\n",
    "            mssr += res\n",
    "    return mssr/n\n",
    "\n",
    "\n",
    "loocv_mssr = {param: get_mssr_from_loocv(\n",
    "    loocv_sols) for param, loocv_sols in loocv_solution.items()}\n",
    "\n",
    "error = {\"wt\": pd.DataFrame(index = wt.index),\n",
    "         \"pi3k\": pd.DataFrame(index = wt.index)}\n",
    "\n",
    "\n",
    "for param, prediction in loocv_predictions.items():\n",
    "    for cl, p in prediction.items():\n",
    "        error[cl][param] = (p - rglob_measured[cl]).pow(2).mean(axis = 1)\n",
    "\n",
    "erk = np.zeros(shape = (len(eta_vals), len(theta_vals)))\n",
    "akt = np.zeros(shape = (len(eta_vals), len(theta_vals)))\n",
    "via = np.zeros(shape = (len(eta_vals), len(theta_vals)))\n",
    "res = np.zeros(shape = (len(eta_vals), len(theta_vals)))\n",
    "\n",
    "for i in eta_vals:\n",
    "    for j in theta_vals:\n",
    "        idx_eta = eta_vals.index(i)\n",
    "        idx_theta = theta_vals.index(j)\n",
    "        res[idx_eta, idx_theta] = loocv_mssr[(i, j)]\n",
    "        via[idx_eta, idx_theta] = ((error_viability[(i, j)]['pi3k'] + \n",
    "                                   error_viability[(i, j)]['wt']))/2\n",
    "        \n",
    "via = pd.DataFrame(via, index = eta_vals, columns = theta_vals)\n",
    "res = pd.DataFrame(res, index = eta_vals, columns = theta_vals)\n",
    "\n",
    "cmap = sns.cubehelix_palette(light=1, as_cmap=True)\n",
    "sns.heatmap(via, cmap = cmap, annot = True, vmax=0.1, linewidths=.1)\n",
    "plt.title(\"Viability\")\n",
    "plt.xlabel(\"$\\Theta$\");\n",
    "plt.ylabel(\"$\\eta$\");\n",
    "plt.show()\n",
    "\n",
    "sns.heatmap(res, cmap = cmap, annot = True, linewidths=.1)\n",
    "plt.title(\"Residuals\")\n",
    "plt.xlabel(\"$\\Theta$\");\n",
    "plt.ylabel(\"$\\eta$\");\n",
    "plt.show()"
   ]
  },
  {
   "cell_type": "markdown",
   "metadata": {
    "Collapsed": "false"
   },
   "source": [
    "The heatmaps above show the average residuals and prediction error in viability for the different hyperparameter settings.\n",
    "\n",
    "For the viability, the LOOCV-prediction is compared to a *predicted* viability from the *measured* AKT and ERK1 values.\n",
    "Errors are averaged over all predictions for both cell lines.\n",
    "\n",
    "This suggest using a model with $\\eta=2$ and $\\theta \\approx 0.1$ as a reasonable trade-off between residuals (the quantity actually being minimized in the CNR algorithm) and the predicted viability using this model (the quantity that we are ultimately interested in).\n",
    "For these values, the viability error term is ~0.04, meaning that the absolute differences are typically around 0.2 on a 0-1 scale. \n",
    "This in not perfect, but certainly close enough to be useful."
   ]
  },
  {
   "cell_type": "markdown",
   "metadata": {
    "Collapsed": "false"
   },
   "source": [
    "### Recurrent additions for the selected hyper-parameters\n",
    "\n",
    "To use a robust model topology, we will use edges that are recurrently added in a LOOCV loop with the selected hyperparameters. \n",
    "First, perform the reconstruction using $\\eta=2$ and $\\theta=0.1$"
   ]
  },
  {
   "cell_type": "code",
   "execution_count": 7,
   "metadata": {
    "Collapsed": "false"
   },
   "outputs": [],
   "source": [
    "%%capture\n",
    "\n",
    "# Perform LOOCV using eta=2 and theta=0.1 (No need to redo scanning each time\n",
    "# this notebook is opened).\n",
    "ETA_SELECT = 2.\n",
    "THETA_SELECT = 0.1\n",
    "\n",
    "loocv_select = [loocv_train(i, given_edges=GIVEN_EDGES,\n",
    "                          eta=ETA_SELECT, theta=THETA_SELECT, bounds=BOUNDS) \n",
    "                      for i in range(17, len(PERTURBATIONS))]\n",
    "\n",
    "loocv_select_predictions = loocv_predict(loocv_select)\n",
    "loocv_select_viabilities = panel_predict_viability(loocv_select_predictions)\n",
    "\n",
    "\n",
    "loocv_select_error = {\"wt\": pd.DataFrame(index = wt.index),\n",
    "                      \"pi3k\": pd.DataFrame(index = wt.index)}\n",
    "\n",
    "for cl, p in loocv_select_predictions.items():\n",
    "    loocv_select_error[cl] = (p - rglob_measured[cl]).pow(2).mean(axis = 1)"
   ]
  },
  {
   "cell_type": "code",
   "execution_count": 8,
   "metadata": {
    "Collapsed": "false"
   },
   "outputs": [
    {
     "data": {
      "text/plain": [
       "[('EGFR', 'GSK3'), ('PRAS40', 'RS6'), ('BioAkt', 'GSK3'), ('BioAkt', 'RS6')]"
      ]
     },
     "execution_count": 8,
     "metadata": {},
     "output_type": "execute_result"
    }
   ],
   "source": [
    "def added_edges(solution, given_edges):\n",
    "    diff_edges = []\n",
    "    for i, j in np.nditer(np.nonzero(np.array(solution.imap))):\n",
    "        diff_edges.append((solution.nodes[i], solution.nodes[j]))\n",
    "    return set(diff_edges) - set(given_edges)\n",
    "\n",
    "\n",
    "addCount = dict()\n",
    "solCount = 0\n",
    "#for param, loocv_sol in loocv_solution.items():\n",
    "for colname, sol in loocv_select:\n",
    "    solCount += 1\n",
    "    for edge in added_edges(sol, GIVEN_EDGES):\n",
    "        if edge in addCount:\n",
    "            addCount[edge] += 1\n",
    "        else:\n",
    "            addCount[edge] = 1\n",
    "\n",
    "addCount = pd.DataFrame.from_dict(addCount, orient=\"index\")\n",
    "addCount.index.name = 'edge'\n",
    "addCount = addCount.sort_values(0, ascending=False)\n",
    "addCount.columns = ['occurrences']\n",
    "addCount[\"fraction\"] = np.round(addCount.occurrences/solCount, 2)\n",
    "\n",
    "recurrent_additions = list(addCount[addCount.fraction >= 0.].index)\n",
    "recurrent_additions"
   ]
  },
  {
   "cell_type": "markdown",
   "metadata": {
    "Collapsed": "false"
   },
   "source": [
    "## CNR model reconstruction\n",
    "\n",
    "Based on the observations above, we can now reconstruct the final model that we will use to make predictions about new perturbations.\n",
    "Using this reconstruction, we will also parameterize the relationship between inhibitor concentration and target-inhibition."
   ]
  },
  {
   "cell_type": "markdown",
   "metadata": {
    "Collapsed": "false"
   },
   "source": [
    "### Network reconstruction\n",
    "\n",
    "We will restrict the network to the literature derived `GIVEN_EDGES` and the \n",
    "`recurrent_additions` identified above, using the `prior_network` option in the CNR problem formulation."
   ]
  },
  {
   "cell_type": "code",
   "execution_count": 9,
   "metadata": {
    "Collapsed": "false"
   },
   "outputs": [],
   "source": [
    "allowed_interactions = GIVEN_EDGES+recurrent_additions\n",
    "\n",
    "# Since we will restrict the network to pre-defined interactions, we will deal \n",
    "# with downstream acting nodes somewhat differently. Therefore, we need to \n",
    "# Update the inhibitor-target-pairs. (Specifically, for the downstream acting \n",
    "# inhibitors we now only include targets that are known targets instead of \n",
    "# all possible nodes)\n",
    "INHIB_TARGET_PAIRS_2 = set()\n",
    "for inhib, target in PERTS_ANNOT.items():\n",
    "    if inhib in DOWNSTREAM_ACTING_INHIBITORS:\n",
    "        for target_node, source_node in allowed_interactions:\n",
    "            if source_node == target:\n",
    "                INHIB_TARGET_PAIRS_2.add((inhib.split(\"i\")[0]+\"i\", target_node))\n",
    "    else:\n",
    "        INHIB_TARGET_PAIRS_2.add((inhib.split(\"i\")[0]+\"i\", target))"
   ]
  },
  {
   "cell_type": "markdown",
   "metadata": {
    "Collapsed": "false"
   },
   "source": [
    "Perform the reconstruction. Since we force all edges not in `allowed_interactions` to be 0, we set `eta=0`."
   ]
  },
  {
   "cell_type": "code",
   "execution_count": 10,
   "metadata": {
    "Collapsed": "false"
   },
   "outputs": [
    {
     "name": "stdout",
     "output_type": "stream",
     "text": [
      "CPXPARAM_Read_DataCheck                          1\n",
      "Found incumbent of value 715.669177 after 0.00 sec. (0.11 ticks)\n",
      "Tried aggregator 2 times.\n",
      "MIQP Presolve eliminated 32 rows and 17 columns.\n",
      "MIQP Presolve modified 39 coefficients.\n",
      "Aggregator did 70 substitutions.\n",
      "Reduced MIQP has 611 rows, 695 columns, and 1817 nonzeros.\n",
      "Reduced MIQP has 28 binaries, 0 generals, 0 SOSs, and 78 indicators.\n",
      "Reduced MIQP objective Q matrix has 558 nonzeros.\n",
      "Presolve time = 0.01 sec. (1.48 ticks)\n",
      "Probing time = 0.00 sec. (0.05 ticks)\n",
      "Tried aggregator 1 time.\n",
      "MIQP Presolve eliminated 529 rows and 589 columns.\n",
      "Reduced MIQP has 82 rows, 106 columns, and 408 nonzeros.\n",
      "Reduced MIQP has 8 binaries, 0 generals, 0 SOSs, and 24 indicators.\n",
      "Reduced MIQP objective Q matrix has 62 nonzeros.\n",
      "Presolve time = 0.00 sec. (0.51 ticks)\n",
      "Probing time = 0.00 sec. (0.01 ticks)\n",
      "Tried aggregator 1 time.\n",
      "Reduced MIQP has 82 rows, 106 columns, and 408 nonzeros.\n",
      "Reduced MIQP has 8 binaries, 0 generals, 0 SOSs, and 24 indicators.\n",
      "Reduced MIQP objective Q matrix has 62 nonzeros.\n",
      "Presolve time = 0.00 sec. (0.12 ticks)\n",
      "Probing time = 0.00 sec. (0.01 ticks)\n",
      "MIP emphasis: balance optimality and feasibility.\n",
      "MIP search method: dynamic search.\n",
      "Parallel mode: deterministic, using up to 6 threads.\n",
      "Root relaxation solution time = 0.00 sec. (1.15 ticks)\n",
      "\n",
      "        Nodes                                         Cuts/\n",
      "   Node  Left     Objective  IInf  Best Integer    Best Bound    ItCnt     Gap\n",
      "\n",
      "*     0+    0                          587.5837       15.7090            97.33%\n",
      "      0     0       29.0937     8      587.5837       29.0937        8   95.05%\n",
      "*     0+    0                           45.8239       29.0937            36.51%\n",
      "      0     0       29.2071     8       45.8239  Impl Bds: 11       22   36.26%\n",
      "*     0+    0                           30.4699       29.2071             4.14%\n",
      "*     0+    0                           29.8277       29.7937             0.11%\n",
      "      0     0        cutoff             29.8277       29.8277       22    0.00%\n",
      "Elapsed time = 0.21 sec. (37.06 ticks, tree = 0.01 MB, solutions = 5)\n",
      "\n",
      "Implied bound cuts applied:  7\n",
      "\n",
      "Root node processing (before b&c):\n",
      "  Real time             =    0.21 sec. (37.12 ticks)\n",
      "Parallel b&c, 6 threads:\n",
      "  Real time             =    0.00 sec. (0.00 ticks)\n",
      "  Sync time (average)   =    0.00 sec.\n",
      "  Wait time (average)   =    0.00 sec.\n",
      "                          ------------\n",
      "Total (root+branch&cut) =    0.21 sec. (37.12 ticks)\n"
     ]
    }
   ],
   "source": [
    "panel = cnr.PerturbationPanel(\n",
    "    NODES, PERTURBATIONS, PERTS_ANNOT, DOWNSTREAM_ACTING_INHIBITORS,\n",
    "    rglob={\"wt\": wt, \"pi3k\": pi3k}\n",
    ")\n",
    "p = cnr.CnrProblem(panel, eta=0, theta=THETA_SELECT, bounds=BOUNDS,\n",
    "                  prior_network=GIVEN_EDGES+recurrent_additions)\n",
    "p.set_edge_sign(POSITIVE_EDGES, \"pos\")\n",
    "\n",
    "# All perturbation are negative\n",
    "p.set_pert_sign(\n",
    "    [(p_name, p_target) for p_name, p_target in PERTS_ANNOT.items() if\n",
    "     p_name not in DOWNSTREAM_ACTING_INHIBITORS], \"neg\")\n",
    "\n",
    "# Higher concentration have bigger effects\n",
    "# RAFi is only measured at a single concentration\n",
    "add_inhibitor_constraints(p, set(INHIBITORS)-{\"RAFi\"})\n",
    "\n",
    "# Merge the indicators corresponding to the same inihibitor\n",
    "for inhib, target in INHIB_TARGET_PAIRS_2:\n",
    "    indicators_to_merge = select_indicators_to_merge(\n",
    "        inhib, target, p.cpx.variables.get_names()\n",
    "    )\n",
    "    merged_indicator_name = \"_\".join(\n",
    "        [\"Imerged\".split(\"_\")[0], inhib, target])\n",
    "    p.merge_indicators(indicators_to_merge, merged_indicator_name)\n",
    "p.cpx.solve()\n",
    "sol = cnr.CnrResult(p)\n"
   ]
  },
  {
   "cell_type": "markdown",
   "metadata": {
    "Collapsed": "false"
   },
   "source": [
    "### Asses and visualize model performance\n",
    "\n",
    "Let's look at how well our signaling model can reproduce the data."
   ]
  },
  {
   "cell_type": "code",
   "execution_count": 11,
   "metadata": {
    "Collapsed": "false"
   },
   "outputs": [
    {
     "data": {
      "text/html": [
       "<div>\n",
       "<style scoped>\n",
       "    .dataframe tbody tr th:only-of-type {\n",
       "        vertical-align: middle;\n",
       "    }\n",
       "\n",
       "    .dataframe tbody tr th {\n",
       "        vertical-align: top;\n",
       "    }\n",
       "\n",
       "    .dataframe thead th {\n",
       "        text-align: right;\n",
       "    }\n",
       "</style>\n",
       "<table border=\"1\" class=\"dataframe\">\n",
       "  <thead>\n",
       "    <tr style=\"text-align: right;\">\n",
       "      <th></th>\n",
       "      <th>cell_line</th>\n",
       "      <th>node</th>\n",
       "      <th>inhibitor</th>\n",
       "      <th>measured</th>\n",
       "      <th>fitted</th>\n",
       "      <th>error</th>\n",
       "    </tr>\n",
       "  </thead>\n",
       "  <tbody>\n",
       "    <tr>\n",
       "      <th>0</th>\n",
       "      <td>wt</td>\n",
       "      <td>EGFR</td>\n",
       "      <td>IGF1Ri3uM</td>\n",
       "      <td>-0.567920</td>\n",
       "      <td>-0.223393</td>\n",
       "      <td>-0.344527</td>\n",
       "    </tr>\n",
       "    <tr>\n",
       "      <th>1</th>\n",
       "      <td>wt</td>\n",
       "      <td>MEK1</td>\n",
       "      <td>IGF1Ri3uM</td>\n",
       "      <td>-0.425490</td>\n",
       "      <td>-0.227386</td>\n",
       "      <td>-0.198104</td>\n",
       "    </tr>\n",
       "    <tr>\n",
       "      <th>2</th>\n",
       "      <td>wt</td>\n",
       "      <td>ERK1</td>\n",
       "      <td>IGF1Ri3uM</td>\n",
       "      <td>-0.519428</td>\n",
       "      <td>-0.307114</td>\n",
       "      <td>-0.212314</td>\n",
       "    </tr>\n",
       "    <tr>\n",
       "      <th>3</th>\n",
       "      <td>wt</td>\n",
       "      <td>GSK3</td>\n",
       "      <td>IGF1Ri3uM</td>\n",
       "      <td>-0.542871</td>\n",
       "      <td>-0.264563</td>\n",
       "      <td>-0.278308</td>\n",
       "    </tr>\n",
       "    <tr>\n",
       "      <th>4</th>\n",
       "      <td>wt</td>\n",
       "      <td>CREB1</td>\n",
       "      <td>IGF1Ri3uM</td>\n",
       "      <td>-0.268147</td>\n",
       "      <td>-0.058941</td>\n",
       "      <td>-0.209206</td>\n",
       "    </tr>\n",
       "  </tbody>\n",
       "</table>\n",
       "</div>"
      ],
      "text/plain": [
       "  cell_line   node  inhibitor  measured    fitted     error\n",
       "0        wt   EGFR  IGF1Ri3uM -0.567920 -0.223393 -0.344527\n",
       "1        wt   MEK1  IGF1Ri3uM -0.425490 -0.227386 -0.198104\n",
       "2        wt   ERK1  IGF1Ri3uM -0.519428 -0.307114 -0.212314\n",
       "3        wt   GSK3  IGF1Ri3uM -0.542871 -0.264563 -0.278308\n",
       "4        wt  CREB1  IGF1Ri3uM -0.268147 -0.058941 -0.209206"
      ]
     },
     "execution_count": 11,
     "metadata": {},
     "output_type": "execute_result"
    }
   ],
   "source": [
    "def tidy_rglob(rglob, value_name):\n",
    "    x = rglob.copy()\n",
    "    x['node'] = x.index\n",
    "    x = x.melt(id_vars = 'node', var_name=\"inhibitor\", value_name=value_name)\n",
    "    return x\n",
    "\n",
    "df_fit = pd.concat(\n",
    "    [tidy_rglob(sol.rglob['wt'], 'measured').merge(\n",
    "        tidy_rglob(sol.rglob_predicted['wt'], 'fitted')\n",
    "    ),\n",
    "    tidy_rglob(sol.rglob['pi3k'], 'measured').merge(\n",
    "        tidy_rglob(sol.rglob_predicted['pi3k'], 'fitted')\n",
    "    )],\n",
    "    keys=['wt', 'pi3k']\n",
    ").reset_index(level=0)\n",
    "df_fit['error'] = (df_fit.measured-df_fit.fitted)\n",
    "df_fit.rename(columns={'level_0': 'cell_line'}, inplace=True)\n",
    "df_fit.head()"
   ]
  },
  {
   "cell_type": "markdown",
   "metadata": {
    "Collapsed": "false"
   },
   "source": [
    "What is the correlation between fitted and measured log2-fold changes?"
   ]
  },
  {
   "cell_type": "code",
   "execution_count": 12,
   "metadata": {
    "Collapsed": "false"
   },
   "outputs": [
    {
     "name": "stdout",
     "output_type": "stream",
     "text": [
      "Pearson: 0.9116232888303264\n",
      "Spearman: 0.6132382420075584\n"
     ]
    }
   ],
   "source": [
    "print(\"Pearson:\", scipy.stats.pearsonr(df_fit.fitted, df_fit.measured)[0])\n",
    "print(\"Spearman:\", scipy.stats.spearmanr(df_fit.fitted, df_fit.measured)[0])"
   ]
  },
  {
   "cell_type": "markdown",
   "metadata": {
    "Collapsed": "false"
   },
   "source": [
    "An overall very high Pearson correlation of 0.91. This is partly driven by outliers as the Spearman correlation is somewhat lower (0.61), but still quite good.\n",
    "\n",
    "If we consider the per-node correlations, these are still pretty good for most."
   ]
  },
  {
   "cell_type": "code",
   "execution_count": 13,
   "metadata": {
    "Collapsed": "false"
   },
   "outputs": [
    {
     "data": {
      "text/html": [
       "<div>\n",
       "<style scoped>\n",
       "    .dataframe tbody tr th:only-of-type {\n",
       "        vertical-align: middle;\n",
       "    }\n",
       "\n",
       "    .dataframe tbody tr th {\n",
       "        vertical-align: top;\n",
       "    }\n",
       "\n",
       "    .dataframe thead th {\n",
       "        text-align: right;\n",
       "    }\n",
       "</style>\n",
       "<table border=\"1\" class=\"dataframe\">\n",
       "  <thead>\n",
       "    <tr style=\"text-align: right;\">\n",
       "      <th>cell_line</th>\n",
       "      <th>pi3k</th>\n",
       "      <th>wt</th>\n",
       "    </tr>\n",
       "    <tr>\n",
       "      <th>node</th>\n",
       "      <th></th>\n",
       "      <th></th>\n",
       "    </tr>\n",
       "  </thead>\n",
       "  <tbody>\n",
       "    <tr>\n",
       "      <th>BioAkt</th>\n",
       "      <td>0.764451</td>\n",
       "      <td>0.940014</td>\n",
       "    </tr>\n",
       "    <tr>\n",
       "      <th>CREB1</th>\n",
       "      <td>-0.014123</td>\n",
       "      <td>-0.006855</td>\n",
       "    </tr>\n",
       "    <tr>\n",
       "      <th>EGFR</th>\n",
       "      <td>0.209624</td>\n",
       "      <td>0.576210</td>\n",
       "    </tr>\n",
       "    <tr>\n",
       "      <th>ERK1</th>\n",
       "      <td>0.658697</td>\n",
       "      <td>0.711290</td>\n",
       "    </tr>\n",
       "    <tr>\n",
       "      <th>GSK3</th>\n",
       "      <td>-0.082720</td>\n",
       "      <td>0.181855</td>\n",
       "    </tr>\n",
       "    <tr>\n",
       "      <th>MEK1</th>\n",
       "      <td>0.239080</td>\n",
       "      <td>0.544758</td>\n",
       "    </tr>\n",
       "    <tr>\n",
       "      <th>P70S6K</th>\n",
       "      <td>0.737416</td>\n",
       "      <td>0.810887</td>\n",
       "    </tr>\n",
       "    <tr>\n",
       "      <th>PRAS40</th>\n",
       "      <td>0.651670</td>\n",
       "      <td>0.880242</td>\n",
       "    </tr>\n",
       "    <tr>\n",
       "      <th>RS6</th>\n",
       "      <td>0.443458</td>\n",
       "      <td>0.616129</td>\n",
       "    </tr>\n",
       "  </tbody>\n",
       "</table>\n",
       "</div>"
      ],
      "text/plain": [
       "cell_line      pi3k        wt\n",
       "node                         \n",
       "BioAkt     0.764451  0.940014\n",
       "CREB1     -0.014123 -0.006855\n",
       "EGFR       0.209624  0.576210\n",
       "ERK1       0.658697  0.711290\n",
       "GSK3      -0.082720  0.181855\n",
       "MEK1       0.239080  0.544758\n",
       "P70S6K     0.737416  0.810887\n",
       "PRAS40     0.651670  0.880242\n",
       "RS6        0.443458  0.616129"
      ]
     },
     "execution_count": 13,
     "metadata": {},
     "output_type": "execute_result"
    }
   ],
   "source": [
    "df_fit.groupby(['cell_line', 'node'], as_index=False\n",
    "              ).apply(lambda x: scipy.stats.spearmanr(x.fitted, x.measured)[0]\n",
    "                     ).unstack(level=0)"
   ]
  },
  {
   "cell_type": "markdown",
   "metadata": {
    "Collapsed": "false"
   },
   "source": [
    "Let's visualize this with a scatterplot"
   ]
  },
  {
   "cell_type": "code",
   "execution_count": 14,
   "metadata": {
    "Collapsed": "false"
   },
   "outputs": [
    {
     "data": {
      "image/png": "[encoded data removed]",
      "text/plain": [
       "<Figure size 396.85x255.118 with 1 Axes>"
      ]
     },
     "metadata": {
      "needs_background": "light"
     },
     "output_type": "display_data"
    }
   ],
   "source": [
    "fig, ax = plt.subplots(figsize=cm2inch(14, 9))\n",
    "lab_dict = {\"wt\": \"Parental\", \"pi3k\": \"PI3K$^\\mathregular{H1047R}$\"}\n",
    "\n",
    "for cell_line in [\"wt\", \"pi3k\"]:\n",
    "    xvals = sol.rglob[cell_line].values.flatten()\n",
    "    yvals = sol.rglob_predicted[cell_line].values.flatten()\n",
    "    plt.plot(xvals, yvals, \".\", color = col_dict[cell_line], markersize=10,\n",
    "             mfc='none', markeredgewidth=1, label=lab_dict[cell_line])\n",
    "\n",
    "#removing top and right borders\n",
    "ax.spines['top'].set_visible(False)\n",
    "ax.spines['right'].set_visible(False)\n",
    "    \n",
    "#adds major gridlines\n",
    "ax.grid(color='lightgrey', linestyle='-', linewidth=0.5, alpha=0.5)\n",
    "\n",
    "# Adds x=y diagonal\n",
    "ax.plot(ax.get_xlim(), ax.get_xlim(), ls=\"--\", linewidth=1, c=\"lightgray\")\n",
    "plt.xlabel(\"Measured log$_\\mathregular{2}$(treatment/DMSO)\")\n",
    "plt.ylabel(\"Model fit log$_\\mathregular{2}$(treatment/DMSO)\")\n",
    "plt.title(\"Signaling response fit\")\n",
    "lgd = ax.legend(frameon=False, loc='upper center', bbox_to_anchor=(1.125,0.5))\n",
    "plt.tight_layout()"
   ]
  },
  {
   "cell_type": "markdown",
   "metadata": {
    "Collapsed": "false"
   },
   "source": [
    "#### Write local response matrices to files"
   ]
  },
  {
   "cell_type": "code",
   "execution_count": 15,
   "metadata": {
    "Collapsed": "false"
   },
   "outputs": [],
   "source": [
    "sol.rloc[\"wt\"].to_csv(\"../results/perturbations/cnr/wt-rloc.csv\")\n",
    "sol.rloc[\"pi3k\"].to_csv(\"../results/perturbations/cnr/pi3k-rloc.csv\")"
   ]
  },
  {
   "cell_type": "markdown",
   "metadata": {
    "Collapsed": "false"
   },
   "source": [
    "#### Permutation analysis to assess the significance of model performance\n",
    "\n",
    "We will asses the statistical significance of the performance of the network model in two ways. \n",
    "\n",
    "\n",
    "  1. To assess the overall performance of the network topology we will compare the overall residuals against a model with random edges (presence/absence).  \n",
    "  2. To assess the relevance of the identified differences between WT/mutant, will will compare the residuals to models where random edges are assigned to differ between the cell lines.\n",
    " "
   ]
  },
  {
   "cell_type": "markdown",
   "metadata": {
    "Collapsed": "false"
   },
   "source": [
    "##### Random edges"
   ]
  },
  {
   "cell_type": "markdown",
   "metadata": {
    "Collapsed": "false"
   },
   "source": [
    "How many edges do we have in our network model?"
   ]
  },
  {
   "cell_type": "code",
   "execution_count": 27,
   "metadata": {
    "Collapsed": "false",
    "collapsed": true,
    "jupyter": {
     "outputs_hidden": true
    }
   },
   "outputs": [
    {
     "name": "stdout",
     "output_type": "stream",
     "text": [
      "16 72\n"
     ]
    }
   ],
   "source": [
    "n_edges = sol.imap.sum().sum()\n",
    "all_possible_edges = list(itertools.permutations(NODES, 2))\n",
    "print(n_edges, len(all_possible_edges))"
   ]
  },
  {
   "cell_type": "code",
   "execution_count": 20,
   "metadata": {
    "Collapsed": "false",
    "collapsed": true,
    "jupyter": {
     "outputs_hidden": true
    }
   },
   "outputs": [],
   "source": [
    "%%capture\n",
    "p = cnr.CnrProblem(panel, eta=0, theta=cplex.infinity, bounds=BOUNDS,\n",
    "                   prior_network=GIVEN_EDGES+recurrent_additions)\n",
    "\n",
    "# All perturbation are negative\n",
    "p.set_pert_sign(\n",
    "    [(p_name, p_target) for p_name, p_target in PERTS_ANNOT.items() if\n",
    "     p_name not in DOWNSTREAM_ACTING_INHIBITORS], \"neg\")\n",
    "\n",
    "# Higher concentration have bigger effects\n",
    "# RAFi is only measured at a single concentration\n",
    "add_inhibitor_constraints(p, set(INHIBITORS)-{\"RAFi\"})\n",
    "\n",
    "# Get solution without differences between cell lines\n",
    "p.cpx.solve()\n",
    "sol_thetaInf = cnr.CnrResult(p)\n",
    "\n",
    "# NDRAW = 1000\n",
    "# mssr_random = []\n",
    "# for draw in range(NDRAW):\n",
    "#     p = cnr.CnrProblem(panel, eta=0, theta=cplex.infinity, bounds=BOUNDS,\n",
    "#                        prior_network=random.sample(all_possible_edges, n_edges))\n",
    "\n",
    "#     # All perturbation are negative\n",
    "#     p.set_pert_sign(\n",
    "#         [(p_name, p_target) for p_name, p_target in PERTS_ANNOT.items() if\n",
    "#          p_name not in DOWNSTREAM_ACTING_INHIBITORS], \"neg\")\n",
    "\n",
    "#     # Higher concentration have bigger effects\n",
    "#     # RAFi is only measured at a single concentration\n",
    "#     add_inhibitor_constraints(p, set(INHIBITORS)-{\"RAFi\"})\n",
    "\n",
    "#     p.cpx.solve()\n",
    "#     mssr = cnr.CnrResult(p).mssr\n",
    "#     mssr_random.append(mssr)\n",
    "# with open(\"../results/perturbations/cnr/rms-random-edges.txt\", \"w\") as f:\n",
    "#     for item in mssr_random:\n",
    "#         f.write(\"%s\\n\" % item)\n",
    "\n",
    "with open(\"../results/perturbations/cnr/rms-random-edges.txt\", \"r\") as f:\n",
    "    mssr_random = [float(mssr) for mssr in f.read().splitlines()]\n"
   ]
  },
  {
   "cell_type": "code",
   "execution_count": 21,
   "metadata": {
    "Collapsed": "false",
    "collapsed": true,
    "jupyter": {
     "outputs_hidden": true
    }
   },
   "outputs": [
    {
     "data": {
      "image/png": "[encoded data removed]",
      "text/plain": [
       "<Figure size 180x180 with 1 Axes>"
      ]
     },
     "metadata": {
      "needs_background": "light"
     },
     "output_type": "display_data"
    }
   ],
   "source": [
    "sns.set_context('paper')\n",
    "plt.figure(figsize=(2.5, 2.5))\n",
    "plt.hist(mssr_random, bins=20, color=\"gray\");\n",
    "plt.axvline(sol_thetaInf.mssr, color='red');\n",
    "plt.xlabel(\"RMS of residuals\");\n",
    "plt.title(\"Distrubion of model fits \\nusing random topologies\");\n",
    "plt.text(sol_thetaInf.mssr + 0.01, 80, \"Actual\\ntopology\", color='red')\n",
    "plt.tight_layout()\n",
    "plt.savefig(\"../figures/cnr/rms-random-edges.pdf\")"
   ]
  },
  {
   "cell_type": "markdown",
   "metadata": {
    "Collapsed": "false"
   },
   "source": [
    "##### Random differences"
   ]
  },
  {
   "cell_type": "markdown",
   "metadata": {
    "Collapsed": "false"
   },
   "source": [
    "How many differences are identified by CNR?"
   ]
  },
  {
   "cell_type": "code",
   "execution_count": 25,
   "metadata": {
    "Collapsed": "false",
    "collapsed": true,
    "jupyter": {
     "outputs_hidden": true
    }
   },
   "outputs": [
    {
     "data": {
      "text/plain": [
       "13"
      ]
     },
     "execution_count": 25,
     "metadata": {},
     "output_type": "execute_result"
    }
   ],
   "source": [
    "total_deviations = int(sum(\n",
    "    [status for indicator, status in sol.vardict.items() if\n",
    "     indicator.startswith(('IDev', 'Imerged'))]))\n",
    "total_deviations"
   ]
  },
  {
   "cell_type": "code",
   "execution_count": 28,
   "metadata": {
    "Collapsed": "false",
    "collapsed": true,
    "jupyter": {
     "outputs_hidden": true
    }
   },
   "outputs": [
    {
     "data": {
      "text/plain": [
       "28"
      ]
     },
     "execution_count": 28,
     "metadata": {},
     "output_type": "execute_result"
    }
   ],
   "source": [
    "all_dev_indicators = [indicator for indicator in sol.vardict.keys() if indicator.startswith(('IDev', 'Imerged'))]\n",
    "len(all_dev_indicators)\n"
   ]
  },
  {
   "cell_type": "code",
   "execution_count": 118,
   "metadata": {
    "Collapsed": "false",
    "collapsed": true,
    "jupyter": {
     "outputs_hidden": true
    }
   },
   "outputs": [],
   "source": [
    "%%capture\n",
    "\n",
    "mssr_random_dev = []\n",
    "for draw in range(1000):\n",
    "    p = cnr.CnrProblem(panel, eta=0, theta=0, bounds=BOUNDS,\n",
    "                       prior_network=GIVEN_EDGES+recurrent_additions)\n",
    "\n",
    "    # All perturbation are negative\n",
    "    p.set_pert_sign(\n",
    "        [(p_name, p_target) for p_name, p_target in PERTS_ANNOT.items() if\n",
    "         p_name not in DOWNSTREAM_ACTING_INHIBITORS], \"neg\")\n",
    "\n",
    "    # Higher concentration have bigger effects\n",
    "    # RAFi is only measured at a single concentration\n",
    "    add_inhibitor_constraints(p, set(INHIBITORS)-{\"RAFi\"})\n",
    "\n",
    "\n",
    "    # Merge the indicators corresponding to the same inihibitor\n",
    "    for inhib, target in INHIB_TARGET_PAIRS_2:\n",
    "        indicators_to_merge = select_indicators_to_merge(\n",
    "            inhib, target, p.cpx.variables.get_names()\n",
    "        )\n",
    "        merged_indicator_name = \"_\".join(\n",
    "            [\"Imerged\".split(\"_\")[0], inhib, target])\n",
    "        p.merge_indicators(indicators_to_merge, merged_indicator_name)\n",
    "\n",
    "\n",
    "    # Get all Dev indicators\n",
    "    all_dev_indicators = [indicator for indicator in sol.vardict.keys() if \n",
    "                          indicator.startswith(('IDev', 'Imerged'))]\n",
    "\n",
    "    # Set random selection of Dev indicators to active\n",
    "    set_active = random.sample(all_dev_indicators, total_deviations)\n",
    "    for indicator in all_dev_indicators:\n",
    "        if indicator in set_active:\n",
    "            cnr.cplexutils.set_indicator_status(p.cpx, indicator, 1)\n",
    "        else:\n",
    "            cnr.cplexutils.set_indicator_status(p.cpx, indicator, 0)\n",
    "\n",
    "\n",
    "    # for indicator, status in sol.vardict.items():\n",
    "    #     if indicator.startswith(('IDev', 'Imerged')):\n",
    "    #         cnr.cplexutils.set_indicator_status(p.cpx, indicator, status)\n",
    "\n",
    "    p.cpx.solve()\n",
    "    tmp = cnr.CnrResult(p)\n",
    "    mssr_random_dev.append(tmp.mssr)\n"
   ]
  },
  {
   "cell_type": "code",
   "execution_count": 134,
   "metadata": {
    "Collapsed": "false",
    "collapsed": true,
    "jupyter": {
     "outputs_hidden": true
    }
   },
   "outputs": [
    {
     "data": {
      "image/png": "[encoded data removed]",
      "text/plain": [
       "<Figure size 180x180 with 1 Axes>"
      ]
     },
     "metadata": {
      "needs_background": "light"
     },
     "output_type": "display_data"
    }
   ],
   "source": [
    "sns.set_context('paper')\n",
    "plt.figure(figsize=(2.5, 2.5))\n",
    "plt.hist(mssr_random_dev, bins=20, color=\"gray\");\n",
    "plt.axvline(sol.mssr, color='red');\n",
    "plt.xlabel(\"RMS of residuals\");\n",
    "plt.title(\"Distrubion of model fits using\\nrandomly selected cell line differences\");\n",
    "plt.text(sol.mssr+0.0015, 90, \"CNR model\", color='red')\n",
    "plt.tight_layout()\n",
    "plt.savefig(\"../figures/cnr/rms-random-diffrences.pdf\")"
   ]
  },
  {
   "cell_type": "markdown",
   "metadata": {
    "Collapsed": "false"
   },
   "source": [
    "### Parametrize the relation between drug-concentration and target-inhibition\n",
    "\n",
    "In the CNR reconstruction, we obtain estimates for direct target inhibition effect for each inhibitor for two concentrations, the IC50 and the IC90.\n",
    "We can use these estimates to parametrize a relation between drug concentration and target inhibition, which will allow us to \"simulate\" the effect of an arbitrary drug concentration.\n",
    "\n",
    "For each inhibitor-target pair, we fit a curve of the form:\n",
    "\n",
    "$$s_{ij} = I_{max}\\frac{[I]}{K_I + [I]}$$\n",
    "\n",
    "where $s_{ij}$ is the strength of target inhibition, $[I]$ the inhibitor concentration, $I_{max}$ the asymptote of $s_{ij}$ for $[I] \\rightarrow \\infty$ and $K_I$ the inhibitor concentration for which the half-maximal $s_{ij}$ is attained.\n",
    "\n",
    "For convenience, all inhibitor concentrations are relative to the IC90 (i.e. highest one measured)"
   ]
  },
  {
   "cell_type": "code",
   "execution_count": 16,
   "metadata": {
    "Collapsed": "false"
   },
   "outputs": [
    {
     "data": {
      "text/html": [
       "<div>\n",
       "<style scoped>\n",
       "    .dataframe tbody tr th:only-of-type {\n",
       "        vertical-align: middle;\n",
       "    }\n",
       "\n",
       "    .dataframe tbody tr th {\n",
       "        vertical-align: top;\n",
       "    }\n",
       "\n",
       "    .dataframe thead th {\n",
       "        text-align: right;\n",
       "    }\n",
       "</style>\n",
       "<table border=\"1\" class=\"dataframe\">\n",
       "  <thead>\n",
       "    <tr style=\"text-align: right;\">\n",
       "      <th></th>\n",
       "      <th>var</th>\n",
       "      <th>cl</th>\n",
       "      <th>pert_name</th>\n",
       "      <th>target</th>\n",
       "      <th>inhibitor</th>\n",
       "      <th>concentration</th>\n",
       "      <th>value</th>\n",
       "      <th>IC90</th>\n",
       "      <th>normalized_concentration</th>\n",
       "    </tr>\n",
       "  </thead>\n",
       "  <tbody>\n",
       "    <tr>\n",
       "      <th>0</th>\n",
       "      <td>rp_pi3k_AKTi1uM_BioAkt</td>\n",
       "      <td>pi3k</td>\n",
       "      <td>AKTi1uM</td>\n",
       "      <td>BioAkt</td>\n",
       "      <td>AKTi</td>\n",
       "      <td>1.0</td>\n",
       "      <td>-4.135642</td>\n",
       "      <td>5.0</td>\n",
       "      <td>0.2</td>\n",
       "    </tr>\n",
       "    <tr>\n",
       "      <th>1</th>\n",
       "      <td>rp_pi3k_AKTi5uM_BioAkt</td>\n",
       "      <td>pi3k</td>\n",
       "      <td>AKTi5uM</td>\n",
       "      <td>BioAkt</td>\n",
       "      <td>AKTi</td>\n",
       "      <td>5.0</td>\n",
       "      <td>-7.858624</td>\n",
       "      <td>5.0</td>\n",
       "      <td>1.0</td>\n",
       "    </tr>\n",
       "    <tr>\n",
       "      <th>2</th>\n",
       "      <td>rp_wt_AKTi1uM_BioAkt</td>\n",
       "      <td>wt</td>\n",
       "      <td>AKTi1uM</td>\n",
       "      <td>BioAkt</td>\n",
       "      <td>AKTi</td>\n",
       "      <td>1.0</td>\n",
       "      <td>-5.065007</td>\n",
       "      <td>5.0</td>\n",
       "      <td>0.2</td>\n",
       "    </tr>\n",
       "    <tr>\n",
       "      <th>3</th>\n",
       "      <td>rp_wt_AKTi5uM_BioAkt</td>\n",
       "      <td>wt</td>\n",
       "      <td>AKTi5uM</td>\n",
       "      <td>BioAkt</td>\n",
       "      <td>AKTi</td>\n",
       "      <td>5.0</td>\n",
       "      <td>-6.627811</td>\n",
       "      <td>5.0</td>\n",
       "      <td>1.0</td>\n",
       "    </tr>\n",
       "    <tr>\n",
       "      <th>4</th>\n",
       "      <td>rp_pi3k_EGFRi03uM_EGFR</td>\n",
       "      <td>pi3k</td>\n",
       "      <td>EGFRi03uM</td>\n",
       "      <td>EGFR</td>\n",
       "      <td>EGFRi</td>\n",
       "      <td>0.3</td>\n",
       "      <td>-0.358692</td>\n",
       "      <td>1.0</td>\n",
       "      <td>0.3</td>\n",
       "    </tr>\n",
       "  </tbody>\n",
       "</table>\n",
       "</div>"
      ],
      "text/plain": [
       "                      var    cl  pert_name  target inhibitor  concentration  \\\n",
       "0  rp_pi3k_AKTi1uM_BioAkt  pi3k    AKTi1uM  BioAkt      AKTi            1.0   \n",
       "1  rp_pi3k_AKTi5uM_BioAkt  pi3k    AKTi5uM  BioAkt      AKTi            5.0   \n",
       "2    rp_wt_AKTi1uM_BioAkt    wt    AKTi1uM  BioAkt      AKTi            1.0   \n",
       "3    rp_wt_AKTi5uM_BioAkt    wt    AKTi5uM  BioAkt      AKTi            5.0   \n",
       "4  rp_pi3k_EGFRi03uM_EGFR  pi3k  EGFRi03uM    EGFR     EGFRi            0.3   \n",
       "\n",
       "      value  IC90  normalized_concentration  \n",
       "0 -4.135642   5.0                       0.2  \n",
       "1 -7.858624   5.0                       1.0  \n",
       "2 -5.065007   5.0                       0.2  \n",
       "3 -6.627811   5.0                       1.0  \n",
       "4 -0.358692   1.0                       0.3  "
      ]
     },
     "execution_count": 16,
     "metadata": {},
     "output_type": "execute_result"
    }
   ],
   "source": [
    "# First extract the information about inhibitor-target pairs from the solution\n",
    "df_inhib = []    \n",
    "for var, val in sol.vardict.items():\n",
    "    if var.split(\"_\")[0] in [\"rp\", \"rpDS\"] :\n",
    "        cl, pert_name, pert_target = var.split(\"_\")[1:]\n",
    "        concentration = re.split(r\"(\\d+uM)\", pert_name)[1].replace(\"uM\", \"\")\n",
    "        inhibitor = re.split(r\"(\\d+uM)\", pert_name)[0]\n",
    "        if concentration[0] == \"0\":\n",
    "            concentration = \".\"+concentration[1:]\n",
    "        concentration = float(concentration)\n",
    "        df_inhib.append((var, cl, pert_name, pert_target, \n",
    "                         inhibitor, concentration, val))\n",
    "df_inhib = pd.DataFrame(df_inhib,\n",
    "                        columns=[\"var\", \"cl\", \"pert_name\", \n",
    "                                \"target\", \"inhibitor\", \"concentration\", \"value\"])\n",
    "df_inhib = df_inhib.sort_values(by = [\"inhibitor\", \"target\", \"cl\", \"concentration\"])\n",
    "df_ic90 = df_inhib[[\"inhibitor\", 'concentration']].groupby(\"inhibitor\").max().reset_index()\n",
    "df_ic90.columns = ['inhibitor', 'IC90']\n",
    "df_inhib = df_inhib.merge(df_ic90, how = 'inner', on = ['inhibitor'])\n",
    "df_inhib['normalized_concentration'] = df_inhib.concentration/df_inhib.IC90\n",
    "df_inhib.head()"
   ]
  },
  {
   "cell_type": "code",
   "execution_count": 17,
   "metadata": {
    "Collapsed": "false"
   },
   "outputs": [
    {
     "name": "stderr",
     "output_type": "stream",
     "text": [
      "/Users/evertbosdriesz/miniconda3/envs/mcf10a-pi3k/lib/python3.6/site-packages/scipy/optimize/minpack.py:795: OptimizeWarning: Covariance of the parameters could not be estimated\n",
      "  category=OptimizeWarning)\n"
     ]
    },
    {
     "data": {
      "text/html": [
       "<div>\n",
       "<style scoped>\n",
       "    .dataframe tbody tr th:only-of-type {\n",
       "        vertical-align: middle;\n",
       "    }\n",
       "\n",
       "    .dataframe tbody tr th {\n",
       "        vertical-align: top;\n",
       "    }\n",
       "\n",
       "    .dataframe thead th {\n",
       "        text-align: right;\n",
       "    }\n",
       "</style>\n",
       "<table border=\"1\" class=\"dataframe\">\n",
       "  <thead>\n",
       "    <tr style=\"text-align: right;\">\n",
       "      <th></th>\n",
       "      <th>inhibitor</th>\n",
       "      <th>target</th>\n",
       "      <th>cl</th>\n",
       "      <th>imax</th>\n",
       "      <th>ki</th>\n",
       "    </tr>\n",
       "  </thead>\n",
       "  <tbody>\n",
       "    <tr>\n",
       "      <th>14</th>\n",
       "      <td>AKTi</td>\n",
       "      <td>BioAkt</td>\n",
       "      <td>wt</td>\n",
       "      <td>-7.181796</td>\n",
       "      <td>0.083585</td>\n",
       "    </tr>\n",
       "    <tr>\n",
       "      <th>15</th>\n",
       "      <td>AKTi</td>\n",
       "      <td>BioAkt</td>\n",
       "      <td>pi3k</td>\n",
       "      <td>-10.140875</td>\n",
       "      <td>0.290414</td>\n",
       "    </tr>\n",
       "    <tr>\n",
       "      <th>16</th>\n",
       "      <td>EGFRi</td>\n",
       "      <td>EGFR</td>\n",
       "      <td>wt</td>\n",
       "      <td>-0.453925</td>\n",
       "      <td>0.079651</td>\n",
       "    </tr>\n",
       "    <tr>\n",
       "      <th>17</th>\n",
       "      <td>EGFRi</td>\n",
       "      <td>EGFR</td>\n",
       "      <td>pi3k</td>\n",
       "      <td>-0.453925</td>\n",
       "      <td>0.079651</td>\n",
       "    </tr>\n",
       "    <tr>\n",
       "      <th>12</th>\n",
       "      <td>ERKi</td>\n",
       "      <td>ERK1</td>\n",
       "      <td>wt</td>\n",
       "      <td>-2.004277</td>\n",
       "      <td>0.033407</td>\n",
       "    </tr>\n",
       "  </tbody>\n",
       "</table>\n",
       "</div>"
      ],
      "text/plain": [
       "   inhibitor  target    cl       imax        ki\n",
       "14      AKTi  BioAkt    wt  -7.181796  0.083585\n",
       "15      AKTi  BioAkt  pi3k -10.140875  0.290414\n",
       "16     EGFRi    EGFR    wt  -0.453925  0.079651\n",
       "17     EGFRi    EGFR  pi3k  -0.453925  0.079651\n",
       "12      ERKi    ERK1    wt  -2.004277  0.033407"
      ]
     },
     "execution_count": 17,
     "metadata": {},
     "output_type": "execute_result"
    }
   ],
   "source": [
    "def inhib_curve(x, imax, ki):\n",
    "    return imax*x / (ki + x)\n",
    "\n",
    "df_param = []\n",
    "lst_param = []\n",
    "for i, t in INHIB_TARGET_PAIRS_2:\n",
    "    for cell_line in [\"wt\", \"pi3k\"]:\n",
    "        df_it = df_inhib[(df_inhib.inhibitor == i) & \n",
    "                       (df_inhib.target == t) & \n",
    "                       (df_inhib.cl == cell_line)]\n",
    "        yvals = [0] + list(df_it.value)\n",
    "        xvals = [0] + list(df_it.normalized_concentration)\n",
    "        \n",
    "        if max(map(abs, yvals)) > 1e-6:\n",
    "            imax, ki = scipy.optimize.curve_fit(\n",
    "                inhib_curve, xvals, yvals, \n",
    "                bounds = ([-100, 0], [0, 100]))[0]\n",
    "        else: \n",
    "            imax, ki = 0, np.Infinity\n",
    "        df_param.append((i, t, cell_line, imax, ki))\n",
    "        \n",
    "df_param = pd.DataFrame(df_param, \n",
    "                        columns=[\"inhibitor\", \"target\", \"cl\", \"imax\", \"ki\"])                \n",
    "df_param = df_param.sort_values(by = [\"inhibitor\", \"target\"])\n",
    "df_merged = df_inhib.merge(df_param, how = 'inner', on = ['target', 'inhibitor', \"cl\"])\n",
    "\n",
    "df_param.head()"
   ]
  },
  {
   "cell_type": "code",
   "execution_count": 18,
   "metadata": {
    "Collapsed": "false"
   },
   "outputs": [],
   "source": [
    "\n",
    "def plot_curve(df, i, t, deviating=set()):\n",
    "    \n",
    "    # Set up the figure\n",
    "    fig, ax = plt.subplots(figsize=cm2inch(12/1.2,9/1.2))\n",
    "    \n",
    "    # Add the plot data\n",
    "    for cell_line in [\"wt\", \"pi3k\"]:\n",
    "        df_itc = df[(df.inhibitor == i) & (df.target == t) & (df.cl == cell_line)]\n",
    "        \n",
    "        imax = float(df_itc.imax.unique())\n",
    "        ki   = float(df_itc.ki.unique())\n",
    "\n",
    "        yvals = [0] + list(df_itc.value)\n",
    "        xvals = [0] + list(df_itc.normalized_concentration)\n",
    "\n",
    "        xfitvals = np.arange(0, max(xvals), max(xvals)/100)\n",
    "        yfitvals = [inhib_curve(x, imax, ki) for x in xfitvals]\n",
    "        yfitvals = [float(y) for y in yfitvals]\n",
    "        \n",
    "        if (i, t) in deviating:\n",
    "            plt.plot(xvals, yvals, \"o\", color = col_dict[cell_line], markersize=4)\n",
    "            plt.plot(xfitvals, yfitvals, \"--\", color = col_dict[cell_line])\n",
    "        else:\n",
    "            plt.plot(xvals, yvals, \"o\", color = 'gray', markersize=4)\n",
    "            plt.plot(xfitvals, yfitvals, \"--\", color = 'gray')\n",
    "        \n",
    "    #removing top and right borders\n",
    "    ax.spines['top'].set_visible(False)\n",
    "    ax.spines['right'].set_visible(False)\n",
    "    \n",
    "    #adds major gridlines\n",
    "    ax.grid(color='lightgrey', linestyle='-', linewidth=0.25)\n",
    "    \n",
    "    # Axis labels and title\n",
    "    if t == \"BioAkt\": t = \"AKT1\" # Don't use BioAkt to refer to AKT in plot labels\n",
    "    plt.xlabel(\"[\"+i+\"] (relative to IC90)\")\n",
    "    plt.ylabel(\"Perturbation effect\")\n",
    "    plt.title(\" \".join([\"Direct effect of\",i,\"on\",t]))\n",
    "    plt.tight_layout()"
   ]
  },
  {
   "cell_type": "code",
   "execution_count": 19,
   "metadata": {
    "Collapsed": "false"
   },
   "outputs": [
    {
     "data": {
      "image/png": "[encoded data removed]",
      "text/plain": [
       "<Figure size 283.465x212.598 with 1 Axes>"
      ]
     },
     "metadata": {
      "needs_background": "light"
     },
     "output_type": "display_data"
    },
    {
     "data": {
      "image/png": "[encoded data removed]",
      "text/plain": [
       "<Figure size 283.465x212.598 with 1 Axes>"
      ]
     },
     "metadata": {
      "needs_background": "light"
     },
     "output_type": "display_data"
    },
    {
     "data": {
      "image/png": "[encoded data removed]",
      "text/plain": [
       "<Figure size 283.465x212.598 with 1 Axes>"
      ]
     },
     "metadata": {
      "needs_background": "light"
     },
     "output_type": "display_data"
    },
    {
     "data": {
      "image/png": "[encoded data removed]",
      "text/plain": [
       "<Figure size 283.465x212.598 with 1 Axes>"
      ]
     },
     "metadata": {
      "needs_background": "light"
     },
     "output_type": "display_data"
    },
    {
     "data": {
      "image/png": "[encoded data removed]",
      "text/plain": [
       "<Figure size 283.465x212.598 with 1 Axes>"
      ]
     },
     "metadata": {
      "needs_background": "light"
     },
     "output_type": "display_data"
    },
    {
     "data": {
      "image/png": "[encoded data removed]",
      "text/plain": [
       "<Figure size 283.465x212.598 with 1 Axes>"
      ]
     },
     "metadata": {
      "needs_background": "light"
     },
     "output_type": "display_data"
    },
    {
     "data": {
      "image/png": "[encoded data removed]",
      "text/plain": [
       "<Figure size 283.465x212.598 with 1 Axes>"
      ]
     },
     "metadata": {
      "needs_background": "light"
     },
     "output_type": "display_data"
    },
    {
     "data": {
      "image/png": "[encoded data removed]",
      "text/plain": [
       "<Figure size 283.465x212.598 with 1 Axes>"
      ]
     },
     "metadata": {
      "needs_background": "light"
     },
     "output_type": "display_data"
    },
    {
     "data": {
      "image/png": "[encoded data removed]",
      "text/plain": [
       "<Figure size 283.465x212.598 with 1 Axes>"
      ]
     },
     "metadata": {
      "needs_background": "light"
     },
     "output_type": "display_data"
    },
    {
     "data": {
      "image/png": "[encoded data removed]",
      "text/plain": [
       "<Figure size 283.465x212.598 with 1 Axes>"
      ]
     },
     "metadata": {
      "needs_background": "light"
     },
     "output_type": "display_data"
    },
    {
     "data": {
      "image/png": "[encoded data removed]",
      "text/plain": [
       "<Figure size 283.465x212.598 with 1 Axes>"
      ]
     },
     "metadata": {
      "needs_background": "light"
     },
     "output_type": "display_data"
    },
    {
     "data": {
      "image/png": "[encoded data removed]",
      "text/plain": [
       "<Figure size 283.465x212.598 with 1 Axes>"
      ]
     },
     "metadata": {
      "needs_background": "light"
     },
     "output_type": "display_data"
    }
   ],
   "source": [
    "deviating_inhibib_target_pairs = set()\n",
    "for var in list(sol.deviations_overview().index):\n",
    "    if var.split(\"_\")[0] in [\"rp\", \"rpDS\"]:\n",
    "        i, t = var.split(\"_\")[1], var.split(\"_\")[2]\n",
    "        i = i.split('i')[0]+\"i\"\n",
    "        deviating_inhibib_target_pairs.add((i, t))\n",
    "\n",
    "\n",
    "for i, t, in INHIB_TARGET_PAIRS_2:\n",
    "    plot_curve(df_merged, i, t, deviating = deviating_inhibib_target_pairs)\n",
    "    fname = str(i)+\"-\"+str(t)+\".pdf\"\n",
    "    # plt.savefig(\"../figures/cnr/inhibitor-targetinhibition-curves/\"+fname)\n",
    "    plt.show()\n",
    "    plt.close()"
   ]
  },
  {
   "cell_type": "markdown",
   "metadata": {
    "Collapsed": "false"
   },
   "source": [
    "#### Write the parameters and drug concentrations to files"
   ]
  },
  {
   "cell_type": "code",
   "execution_count": 20,
   "metadata": {
    "Collapsed": "false"
   },
   "outputs": [],
   "source": [
    "# Write the applied inhibitor concentrations to file\n",
    "tmp = df_inhib[[\"inhibitor\", \"concentration\", \"IC90\", \"normalized_concentration\"]]\n",
    "tmp = tmp[tmp.concentration != tmp.IC90].drop_duplicates()\n",
    "tmp.columns = ['Inhibitor', \"IC50\", \"IC90\", \"NormalizedIC50\"]\n",
    "tmp.to_csv(\"../results/perturbations/drug-concentrations.tsv\", sep = \"\\t\", index = False)"
   ]
  },
  {
   "cell_type": "code",
   "execution_count": 21,
   "metadata": {
    "Collapsed": "false"
   },
   "outputs": [],
   "source": [
    "df_merged.to_csv(\"../results/perturbations/cnr/target-inhibition-parametrization.csv\")"
   ]
  },
  {
   "cell_type": "markdown",
   "metadata": {
    "Collapsed": "false"
   },
   "source": [
    "### Mapping inhibitor concentrations to signaling response \n",
    "\n",
    "In order to simulate/predict the direct target-inhibition effects of arbitrary drug combinations (i.e. elements of $s_{ij}$) we need to parametrize a mapping from inhibitor-concentration to target-inhibition.\n",
    "Here, we prepare and export this vector for use in Mathematica, which we will use to perform the drug-combination-optimizations."
   ]
  },
  {
   "cell_type": "code",
   "execution_count": 22,
   "metadata": {
    "Collapsed": "false"
   },
   "outputs": [],
   "source": [
    "# Generate matrices of NODESxINHIBITORS with the KIs and IMAX values, to use as\n",
    "# input over vectorized inhib_curve_vec function\n",
    "# WT\n",
    "mat_imax_wt = df_param[df_param.cl == \"wt\"][[\"inhibitor\", \"target\", \"imax\"]]\n",
    "mat_imax_wt = mat_imax_wt.pivot(\"target\",\"inhibitor\", \"imax\")\n",
    "mat_imax_wt = np.nan_to_num(mat_imax_wt.reindex(index = NODES, columns=INHIBITORS))\n",
    "mat_ki_wt = df_param[df_param.cl == \"wt\"][[\"inhibitor\", \"target\", \"ki\"]]\n",
    "mat_ki_wt = mat_ki_wt.pivot(\"target\",\"inhibitor\", \"ki\")\n",
    "mat_ki_wt = np.nan_to_num(mat_ki_wt.reindex(index = NODES, columns=INHIBITORS))\n",
    "# # PI3K\n",
    "mat_imax_pi3k = df_param[df_param.cl == \"pi3k\"][[\"inhibitor\", \"target\", \"imax\"]]\n",
    "mat_imax_pi3k = mat_imax_pi3k.pivot(\"target\",\"inhibitor\", \"imax\")\n",
    "mat_imax_pi3k = np.nan_to_num(mat_imax_pi3k.reindex(index = NODES, columns=INHIBITORS))\n",
    "mat_ki_pi3k = df_param[df_param.cl == \"pi3k\"][[\"inhibitor\", \"target\", \"ki\"]]\n",
    "mat_ki_pi3k = mat_ki_pi3k.pivot(\"target\",\"inhibitor\", \"ki\")\n",
    "mat_ki_pi3k = np.nan_to_num(mat_ki_pi3k.reindex(index = NODES, columns=INHIBITORS))\n",
    "\n",
    "# Matrix indicating which nodes are affected by each inhibitor.\n",
    "inhib_map = np.zeros(shape = np.shape(mat_imax_wt))\n",
    "for inhib, target in INHIB_TARGET_PAIRS_2:\n",
    "    inhib_map[NODES.index(target), INHIBITORS.index(inhib)] = 1\n",
    "\n",
    "# Nonzero elements to use in vectorized curve fit\n",
    "idx_to_use = np.nonzero(inhib_map)\n",
    "\n",
    "def inhib_curve_symbol(inhib_symbol, imax, ki):\n",
    "    return imax*inhib_symbol / (ki + inhib_symbol)\n",
    "\n",
    "# Generate vector that gives target-inhibition of each node as function of \n",
    "# inhibitor concentration\n",
    "\n",
    "# WT\n",
    "# Generate NODESxINHIBITOR matrix where each non-zero element quantifies the \n",
    "# target-inhibition effect of INHIBITOR on NODE\n",
    "rp_wt = np.zeros(np.shape(inhib_map), dtype=sympy.Symbol)\n",
    "rp_wt[idx_to_use] = np.vectorize(inhib_curve_symbol)(\n",
    "    np.dot(inhib_map, np.identity(len(INHIBITORS))*[sympy.Symbol(i) for i in INHIBITORS])[idx_to_use],\n",
    "    mat_imax_wt[idx_to_use], mat_ki_wt[idx_to_use]\n",
    ")\n",
    "# Sum over all inhibitors \n",
    "rp_wt = pd.Series(rp_wt.sum(axis=1), index = NODES)\n",
    "\n",
    "# PI3K \n",
    "rp_pi3k = np.zeros(np.shape(inhib_map), dtype=sympy.Symbol)\n",
    "rp_pi3k[idx_to_use] = np.vectorize(inhib_curve_symbol)(\n",
    "    np.dot(inhib_map, np.identity(len(INHIBITORS))*[sympy.Symbol(i) for i in INHIBITORS])[idx_to_use],\n",
    "    mat_imax_pi3k[idx_to_use], mat_ki_pi3k[idx_to_use]\n",
    ")\n",
    "rp_pi3k = pd.Series(rp_pi3k.sum(axis=1), index = NODES)"
   ]
  },
  {
   "cell_type": "markdown",
   "metadata": {
    "Collapsed": "false"
   },
   "source": [
    "Let's perform some sanity check on the exported perturbation-vectors."
   ]
  },
  {
   "cell_type": "code",
   "execution_count": 23,
   "metadata": {
    "Collapsed": "false"
   },
   "outputs": [
    {
     "name": "stdout",
     "output_type": "stream",
     "text": [
      "-0.453925468968983*EGFRi/(1.0*EGFRi + 0.0796509922253649)\n",
      "-0.453925468968983*EGFRi/(1.0*EGFRi + 0.0796509922253649)\n"
     ]
    },
    {
     "data": {
      "text/html": [
       "<div>\n",
       "<style scoped>\n",
       "    .dataframe tbody tr th:only-of-type {\n",
       "        vertical-align: middle;\n",
       "    }\n",
       "\n",
       "    .dataframe tbody tr th {\n",
       "        vertical-align: top;\n",
       "    }\n",
       "\n",
       "    .dataframe thead th {\n",
       "        text-align: right;\n",
       "    }\n",
       "</style>\n",
       "<table border=\"1\" class=\"dataframe\">\n",
       "  <thead>\n",
       "    <tr style=\"text-align: right;\">\n",
       "      <th></th>\n",
       "      <th>inhibitor</th>\n",
       "      <th>target</th>\n",
       "      <th>cl</th>\n",
       "      <th>imax</th>\n",
       "      <th>ki</th>\n",
       "    </tr>\n",
       "  </thead>\n",
       "  <tbody>\n",
       "    <tr>\n",
       "      <th>16</th>\n",
       "      <td>EGFRi</td>\n",
       "      <td>EGFR</td>\n",
       "      <td>wt</td>\n",
       "      <td>-0.453925</td>\n",
       "      <td>0.079651</td>\n",
       "    </tr>\n",
       "    <tr>\n",
       "      <th>17</th>\n",
       "      <td>EGFRi</td>\n",
       "      <td>EGFR</td>\n",
       "      <td>pi3k</td>\n",
       "      <td>-0.453925</td>\n",
       "      <td>0.079651</td>\n",
       "    </tr>\n",
       "  </tbody>\n",
       "</table>\n",
       "</div>"
      ],
      "text/plain": [
       "   inhibitor target    cl      imax        ki\n",
       "16     EGFRi   EGFR    wt -0.453925  0.079651\n",
       "17     EGFRi   EGFR  pi3k -0.453925  0.079651"
      ]
     },
     "execution_count": 23,
     "metadata": {},
     "output_type": "execute_result"
    }
   ],
   "source": [
    "print(rp_wt.EGFR)\n",
    "print(rp_pi3k.EGFR)\n",
    "df_param[df_param.target == \"EGFR\"]"
   ]
  },
  {
   "cell_type": "code",
   "execution_count": 24,
   "metadata": {
    "Collapsed": "false"
   },
   "outputs": [
    {
     "name": "stdout",
     "output_type": "stream",
     "text": [
      "WT:    -7.18179597911812*AKTi/(1.0*AKTi + 0.0835848407483674) - 4.54040595058919*IGF1Ri/(1.0*IGF1Ri + 0.192867265168982) - 23.2292474286028*PI3Ki/(1.0*PI3Ki + 2.64992800836348) - 9.98518677489375*mTORi/(1.0*mTORi + 0.388827878687453)\n",
      "PI3K:  -10.1408747327125*AKTi/(1.0*AKTi + 0.290413572868903) - 22.5725911008527*PI3Ki/(1.0*PI3Ki + 11.2417391675109) - 99.9999999994269*mTORi/(1.0*mTORi + 22.8910211262826)\n"
     ]
    },
    {
     "data": {
      "text/html": [
       "<div>\n",
       "<style scoped>\n",
       "    .dataframe tbody tr th:only-of-type {\n",
       "        vertical-align: middle;\n",
       "    }\n",
       "\n",
       "    .dataframe tbody tr th {\n",
       "        vertical-align: top;\n",
       "    }\n",
       "\n",
       "    .dataframe thead th {\n",
       "        text-align: right;\n",
       "    }\n",
       "</style>\n",
       "<table border=\"1\" class=\"dataframe\">\n",
       "  <thead>\n",
       "    <tr style=\"text-align: right;\">\n",
       "      <th></th>\n",
       "      <th>inhibitor</th>\n",
       "      <th>target</th>\n",
       "      <th>cl</th>\n",
       "      <th>imax</th>\n",
       "      <th>ki</th>\n",
       "    </tr>\n",
       "  </thead>\n",
       "  <tbody>\n",
       "    <tr>\n",
       "      <th>14</th>\n",
       "      <td>AKTi</td>\n",
       "      <td>BioAkt</td>\n",
       "      <td>wt</td>\n",
       "      <td>-7.181796</td>\n",
       "      <td>0.083585</td>\n",
       "    </tr>\n",
       "    <tr>\n",
       "      <th>15</th>\n",
       "      <td>AKTi</td>\n",
       "      <td>BioAkt</td>\n",
       "      <td>pi3k</td>\n",
       "      <td>-10.140875</td>\n",
       "      <td>0.290414</td>\n",
       "    </tr>\n",
       "    <tr>\n",
       "      <th>20</th>\n",
       "      <td>IGF1Ri</td>\n",
       "      <td>BioAkt</td>\n",
       "      <td>wt</td>\n",
       "      <td>-4.540406</td>\n",
       "      <td>0.192867</td>\n",
       "    </tr>\n",
       "    <tr>\n",
       "      <th>21</th>\n",
       "      <td>IGF1Ri</td>\n",
       "      <td>BioAkt</td>\n",
       "      <td>pi3k</td>\n",
       "      <td>0.000000</td>\n",
       "      <td>inf</td>\n",
       "    </tr>\n",
       "    <tr>\n",
       "      <th>22</th>\n",
       "      <td>PI3Ki</td>\n",
       "      <td>BioAkt</td>\n",
       "      <td>wt</td>\n",
       "      <td>-23.229247</td>\n",
       "      <td>2.649928</td>\n",
       "    </tr>\n",
       "    <tr>\n",
       "      <th>23</th>\n",
       "      <td>PI3Ki</td>\n",
       "      <td>BioAkt</td>\n",
       "      <td>pi3k</td>\n",
       "      <td>-22.572591</td>\n",
       "      <td>11.241739</td>\n",
       "    </tr>\n",
       "    <tr>\n",
       "      <th>8</th>\n",
       "      <td>mTORi</td>\n",
       "      <td>BioAkt</td>\n",
       "      <td>wt</td>\n",
       "      <td>-9.985187</td>\n",
       "      <td>0.388828</td>\n",
       "    </tr>\n",
       "    <tr>\n",
       "      <th>9</th>\n",
       "      <td>mTORi</td>\n",
       "      <td>BioAkt</td>\n",
       "      <td>pi3k</td>\n",
       "      <td>-100.000000</td>\n",
       "      <td>22.891021</td>\n",
       "    </tr>\n",
       "  </tbody>\n",
       "</table>\n",
       "</div>"
      ],
      "text/plain": [
       "   inhibitor  target    cl        imax         ki\n",
       "14      AKTi  BioAkt    wt   -7.181796   0.083585\n",
       "15      AKTi  BioAkt  pi3k  -10.140875   0.290414\n",
       "20    IGF1Ri  BioAkt    wt   -4.540406   0.192867\n",
       "21    IGF1Ri  BioAkt  pi3k    0.000000        inf\n",
       "22     PI3Ki  BioAkt    wt  -23.229247   2.649928\n",
       "23     PI3Ki  BioAkt  pi3k  -22.572591  11.241739\n",
       "8      mTORi  BioAkt    wt   -9.985187   0.388828\n",
       "9      mTORi  BioAkt  pi3k -100.000000  22.891021"
      ]
     },
     "execution_count": 24,
     "metadata": {},
     "output_type": "execute_result"
    }
   ],
   "source": [
    "print(\"WT:   \", rp_wt.BioAkt)\n",
    "print(\"PI3K: \", rp_pi3k.BioAkt)\n",
    "df_param[df_param.target == \"BioAkt\"]"
   ]
  },
  {
   "cell_type": "markdown",
   "metadata": {
    "Collapsed": "false"
   },
   "source": [
    "#### Write the responses to file"
   ]
  },
  {
   "cell_type": "code",
   "execution_count": 25,
   "metadata": {
    "Collapsed": "false"
   },
   "outputs": [],
   "source": [
    "rp_wt.to_csv('../results/perturbations/cnr/wt-inhibitor-response.csv', header=False)\n",
    "rp_pi3k.to_csv('../results/perturbations/cnr/pi3k-inhibitor-response.csv', header=False)"
   ]
  },
  {
   "cell_type": "markdown",
   "metadata": {
    "Collapsed": "false"
   },
   "source": [
    "We can also generate the expression that simulates the overall network response $\\mathbf{R}$ by simply calculating \n",
    "$$\\mathbf{R} = -\\mathbf{r}^{-1}\\mathbf{s}$$\n",
    "(where s is the vector calculated above).\n",
    "We also export this for convenience."
   ]
  },
  {
   "cell_type": "code",
   "execution_count": 26,
   "metadata": {
    "Collapsed": "false"
   },
   "outputs": [],
   "source": [
    "response_wt = -1*np.dot(np.linalg.inv(sol.rloc['wt']), rp_wt)\n",
    "with open('../results/perturbations/cnr/wt_network-response.csv', 'w') as the_file:\n",
    "    the_file.write(\",\".join([sympy.printing.mathematica_code(i) for i in list(response_wt)]))\n",
    "    \n",
    "response_pi3k = -1*np.dot(np.linalg.inv(sol.rloc['pi3k']), rp_pi3k)\n",
    "with open('../results/perturbations/cnr/pi3k_network-response.csv', 'w') as the_file:\n",
    "    the_file.write(\",\".join([sympy.printing.mathematica_code(i) for i in list(response_pi3k)]))\n",
    "    \n",
    "response_symbolic = {\"wt\": response_wt, \"pi3k\":response_pi3k}"
   ]
  },
  {
   "cell_type": "markdown",
   "metadata": {
    "Collapsed": "false"
   },
   "source": [
    "### Visualize the network\n",
    "\n",
    "We write the network reconstruction to a `.gml` file for visualization in cytoscape."
   ]
  },
  {
   "cell_type": "code",
   "execution_count": 33,
   "metadata": {
    "Collapsed": "false"
   },
   "outputs": [],
   "source": [
    "# Use this to merge the 'inhibitor-nodes' corresponding to the same \n",
    "# inhibitor-target pair\n",
    "def merge_nodes(G, nodes, new_node):\n",
    "    \"\"\"\n",
    "    Merges the selected `nodes` of the graph G into one `new_node`,\n",
    "    meaning that all the edges that pointed to or from one of these\n",
    "    `nodes` will point to or from the `new_node`.\n",
    "    attr_dict and **attr are defined as in `G.add_node`.\n",
    "    \"\"\"\n",
    "    G.add_node(new_node, type= \"perturbation\") # Add the 'merged' node  \n",
    "    new_edges = []\n",
    "    for n1, n2, data in G.edges(data=True):\n",
    "        # For all edges related to one of the nodes to merge,\n",
    "        # make an edge going to or coming from the `new gene`.\n",
    "        if n1 in nodes:\n",
    "            new_edges.append((new_node, n2, data))\n",
    "        elif n2 in nodes:\n",
    "            new_edges.append((n1, new_node,data))\n",
    "    G.add_edges_from(new_edges)\n",
    "    \n",
    "    for n in nodes: # remove the merged nodes\n",
    "        G.remove_node(n)\n",
    "        \n",
    "def remove_edges(G, weigth_cutoff = 0.0):\n",
    "    \"Remove edges from graph G is the weigth < weight_cutoff (default =0)\"\n",
    "    edges_to_remove = []\n",
    "    for i, j, weight in G.edges(data=\"weight\"):\n",
    "        if abs(weight) < weigth_cutoff:\n",
    "            edges_to_remove.append((i, j))\n",
    "    G.remove_edges_from(edges_to_remove)\n",
    "\n",
    "# The main writing functions\n",
    "def write_perturbation_gml(G_original, fname, \n",
    "                           pertlabels,\n",
    "                           maxwidth=10., weigth_cutoff = 0.0,\n",
    "                           nodes_drop=None, highlight_diff = True,\n",
    "                           given_edges = GIVEN_EDGES):\n",
    "    \"Write the reconstructed network to a gml file\"\n",
    "\n",
    "    G = G_original.copy()\n",
    "    # Remove selected nodes and edges\n",
    "    if nodes_drop:\n",
    "        G.remove_nodes_from(nodes_drop)\n",
    "    remove_edges(G, weigth_cutoff)      \n",
    "   \n",
    "    # Make inhibitor-node names more concice (and matching graph_pos)\n",
    "    rename_dict = {\n",
    "        'AKTi1uM': \"AKTi\",'AKTi5uM': \"AKTi\",\n",
    "        'EGFRi03uM': \"EGFRi\", 'EGFRi1uM': \"EGFRi\",\n",
    "        'ERKi002uM': 'ERKi', 'ERKi04uM': \"ERKi\",\n",
    "        'IGF1Ri10uMakt': \"IGF1Ri\", 'IGF1Ri10uMmek': \"IGF1Ri\",\n",
    "        'IGF1Ri3uMakt': \"IGF1Ri\", 'IGF1Ri3uMmek': \"IGF1Ri\",\n",
    "        'MEKi0002uM': \"MEKi\", 'MEKi002uM': \"MEKi\", \n",
    "        'PI3Ki1uM': \"PI3Ki\", 'PI3Ki2uM': \"PI3Ki\",\n",
    "        'RAFi1uM': \"RAFi\", \n",
    "        'mTORi001uMmtorc1': \"mTORi\", 'mTORi03uMmtorc1': \"mTORi\",\n",
    "        'mTORi001uMmtorc2': \"mTORi\", 'mTORi03uMmtorc2': \"mTORi\"\n",
    "    }\n",
    "    G = nx.relabel_nodes(G, rename_dict)      \n",
    "    G = nx.relabel_nodes(G, {'BioAkt': 'AKT1'})\n",
    "    \n",
    "    # Add the node-positioning information.\n",
    "    graph_pos = {\n",
    "        # Nodes\n",
    "        'EGFR': (0, 0), \n",
    "        'MEK1': (.75, -1), \n",
    "        'ERK1': (.75, -2), \n",
    "        'CREB1': (1.25, -3),\n",
    "        'AKT1': (-.75, -1), \n",
    "        'PRAS40': (-.75, -2), \n",
    "        'P70S6K': (0, -3), \n",
    "        'GSK3': (.75, -3.5),\n",
    "        'RS6': (-.75, -3.5),\n",
    "\n",
    "        # Inhibitors\n",
    "        \"IGF1Ri\": (-.75, 0.),\n",
    "        \"EGFRi\": (0., 1), \n",
    "        \"RAFi\": (2, -0.5), \n",
    "        \"MEKi\": (2, -1), \n",
    "        \"ERKi\": (2, -2), \n",
    "        \"GSK3i\": (2, -2.5),\n",
    "        \"PI3Ki\": (-2, -0.5),\n",
    "        \"AKTi\": (-2, -1), \n",
    "        \"mTORi\": (-2, -2)\n",
    "    }\n",
    "    pos_x = dict()\n",
    "    pos_y = dict()\n",
    "    for key, val in graph_pos.items():\n",
    "        pos_x[key] = int(35*val[0])\n",
    "        pos_y[key] = int(-35*val[1])\n",
    "    nx.set_node_attributes(G, pos_x, name='x')\n",
    "    nx.set_node_attributes(G, pos_y, name='y')\n",
    "\n",
    "    # Make feedback edge curved\n",
    "    d = {key: 0 for key in G.edges()}\n",
    "    d[(\"P70S6K\", \"AKT1\")] = 1\n",
    "    d[(\"PRAS40\", \"AKT1\")] = 1\n",
    "    d[(\"RS6\", \"AKT1\")] = 1\n",
    "    d[(\"GSK3\", \"AKT1\")] = 1\n",
    "    d[(\"ERK1\", \"MEK1\")] = 1\n",
    "    d[(\"ERK1\", \"EGFR\")] = 1\n",
    "    \n",
    "    #d[(\"RS6\", \"PRAS40\")] = 1\n",
    "    \n",
    "    nx.set_edge_attributes(G, d, name = \"curved\")\n",
    "        \n",
    "    if highlight_diff:\n",
    "        for parent, child in G.edges():\n",
    "            # if G[parent][child]['deviation'] == 0.:\n",
    "            G[parent][child]['color'] = 'gray'\n",
    "    \n",
    "    # Set maximum width on edges\n",
    "    for i, j, pw in G.edges(data=\"penwidth\"):\n",
    "        if pw > maxwidth:\n",
    "            G[i][j]['penwidth'] = maxwidth\n",
    "    \n",
    "    # Set edge labels\n",
    "    for parent, child, w in G.edges(data=\"weight\"):\n",
    "        #if G[parent][child]['deviation'] == 1:\n",
    "            # Don't show labels of perturbations\n",
    "        if G[parent][child][\"edgetype\"] != 'perturbation':\n",
    "            G[parent][child]['edgelabel'] = str(np.round(w, 2))\n",
    "            # else:\n",
    "            #   G[parent][child]['edgelabel'] = pertlabels[(parent, child)]\n",
    "\n",
    "    \n",
    "    # Annotate if the edge was added to the network or was in the supplied \n",
    "    # starting network\n",
    "    for parent, child in G.edges():\n",
    "        if (child.replace(\"AKT1\", \"BioAkt\").strip(),\n",
    "            parent.replace(\"AKT1\", \"BioAkt\").strip()) in given_edges:\n",
    "            G[parent][child][\"added\"] = True\n",
    "        else:\n",
    "            G[parent][child][\"added\"] = False\n",
    "    \n",
    "    nx.write_gml(G, fname)\n",
    "    return G\n",
    "\n",
    "# The main writing functions\n",
    "def write_perturbation_combined_gml(\n",
    "    sol, fname, pertlabels, maxwidth=10., weigth_cutoff = 0.0,\n",
    "    nodes_drop=None, highlight_diff = True, given_edges = GIVEN_EDGES):\n",
    "    \"Write the reconstructed network to a gml file\"\n",
    "\n",
    "    G   = cnr.cnrplot.graph_from_sol(sol, \"wt\")\n",
    "    G_pi3k = cnr.cnrplot.graph_from_sol(sol, \"pi3k\")\n",
    "    # Remove selected nodes and edges\n",
    "    if nodes_drop:\n",
    "        G.remove_nodes_from(nodes_drop)\n",
    "    remove_edges(G, weigth_cutoff)      \n",
    "   \n",
    "    # Make inhibitor-node names more concice (and matching graph_pos)\n",
    "    rename_dict = {\n",
    "        'AKTi1uM': \"AKTi\",'AKTi5uM': \"AKTi\",\n",
    "        'EGFRi03uM': \"EGFRi\", 'EGFRi1uM': \"EGFRi\",\n",
    "        'ERKi002uM': 'ERKi', 'ERKi04uM': \"ERKi\",\n",
    "        'IGF1Ri10uMakt': \"IGF1Ri\", 'IGF1Ri10uMmek': \"IGF1Ri\",\n",
    "        'IGF1Ri3uMakt': \"IGF1Ri\", 'IGF1Ri3uMmek': \"IGF1Ri\",\n",
    "        'MEKi0002uM': \"MEKi\", 'MEKi002uM': \"MEKi\", \n",
    "        'PI3Ki1uM': \"PI3Ki\", 'PI3Ki2uM': \"PI3Ki\",\n",
    "        'RAFi1uM': \"RAFi\", \n",
    "        'mTORi001uMmtorc1': \"mTORi\", 'mTORi03uMmtorc1': \"mTORi\",\n",
    "        'mTORi001uMmtorc2': \"mTORi\", 'mTORi03uMmtorc2': \"mTORi\"\n",
    "    }\n",
    "    G = nx.relabel_nodes(G, rename_dict)      \n",
    "    G = nx.relabel_nodes(G, {'BioAkt': 'AKT1'})\n",
    "    \n",
    "    G_pi3k = nx.relabel_nodes(G_pi3k, rename_dict)      \n",
    "    G_pi3k = nx.relabel_nodes(G_pi3k, {'BioAkt': 'AKT1'})\n",
    "    \n",
    "    # Add the node-positioning information.\n",
    "    graph_pos = {\n",
    "        # Nodes\n",
    "        'EGFR': (0, 0), \n",
    "        'MEK1': (.75, -1), \n",
    "        'ERK1': (.75, -2), \n",
    "        'CREB1': (1.25, -3),\n",
    "        'AKT1': (-.75, -1), \n",
    "        'PRAS40': (-.75, -2), \n",
    "        'P70S6K': (0, -3), \n",
    "        'GSK3': (.75, -3.5),\n",
    "        'RS6': (-.75, -3.5),\n",
    "\n",
    "        # Inhibitors\n",
    "        \"IGF1Ri\": (-.75, 0.),\n",
    "        \"EGFRi\": (0., 1), \n",
    "        \"RAFi\": (2, -0.5), \n",
    "        \"MEKi\": (2, -1), \n",
    "        \"ERKi\": (2, -2), \n",
    "        \"GSK3i\": (2, -2.5),\n",
    "        \"PI3Ki\": (-2, -0.5),\n",
    "        \"AKTi\": (-2, -1), \n",
    "        \"mTORi\": (-2, -2)\n",
    "    }\n",
    "    pos_x = dict()\n",
    "    pos_y = dict()\n",
    "    for key, val in graph_pos.items():\n",
    "        pos_x[key] = int(35*val[0])\n",
    "        pos_y[key] = int(-35*val[1])\n",
    "    nx.set_node_attributes(G, pos_x, name='x')\n",
    "    nx.set_node_attributes(G, pos_y, name='y')\n",
    "\n",
    "    # Make feedback edge curved\n",
    "    d = {key: False for key in G.edges()}\n",
    "    d[(\"PRAS40\", \"AKT1\")] = True\n",
    "    d[(\"RS6\", \"AKT1\")] = True\n",
    "    d[(\"GSK3\", \"AKT1\")] = True\n",
    "    d[(\"GSK3\", \"EGFR\")] = True\n",
    "#     d[(\"ERK1\", \"EGFR\")] = True\n",
    "    \n",
    "#     d[(\"RS6\", \"PRAS40\")] = True\n",
    "    \n",
    "    nx.set_edge_attributes(G, d, name = \"curved\")\n",
    "        \n",
    "    if highlight_diff:\n",
    "        for parent, child in G.edges():\n",
    "            if G[parent][child]['deviation'] == 0.:\n",
    "                G[parent][child]['color'] = 'gray'\n",
    "            else:\n",
    "                G[parent][child]['color'] = '#1c86ee'\n",
    "    \n",
    "    # Set maximum width on edges\n",
    "    for i, j, pw in G.edges(data=\"penwidth\"):\n",
    "        if pw > maxwidth:\n",
    "            G[i][j]['penwidth'] = maxwidth\n",
    "    \n",
    "    # Set edge labels\n",
    "    for parent, child, w in G.edges(data=\"weight\"):\n",
    "        # Don't show labels of perturbations\n",
    "        if G[parent][child][\"edgetype\"] != 'perturbation':\n",
    "            if G[parent][child]['deviation'] == 1:\n",
    "                label_wt = str(np.round(w, 2))\n",
    "                label_pi3k = str(np.round(G_pi3k[parent][child]['weight'], 2))\n",
    "                label = label_wt + \"/\" + label_pi3k\n",
    "                G[parent][child]['edgelabel'] = label\n",
    "            # else:\n",
    "            #   G[parent][child]['edgelabel'] = pertlabels[(parent, child)]\n",
    "\n",
    "    \n",
    "    # Annotate if the edge was added to the network or was in the supplied \n",
    "    # starting network\n",
    "    for parent, child in G.edges():\n",
    "        if (child.replace(\"AKT1\", \"BioAkt\").strip(),\n",
    "            parent.replace(\"AKT1\", \"BioAkt\").strip()) in given_edges:\n",
    "            G[parent][child][\"added\"] = True\n",
    "        else:\n",
    "            G[parent][child][\"added\"] = False\n",
    "    \n",
    "    nx.write_gml(G, fname)\n",
    "    return G"
   ]
  },
  {
   "cell_type": "code",
   "execution_count": 34,
   "metadata": {
    "Collapsed": "false"
   },
   "outputs": [],
   "source": [
    "pertlabels = dict()\n",
    "for cl in ['wt', 'pi3k']:\n",
    "    pertlabels[cl] = dict()\n",
    "    for i, t in INHIB_TARGET_PAIRS_2:\n",
    "        sel = (df_inhib.cl == cl) & (df_inhib.inhibitor == i) & \\\n",
    "              (df_inhib.target == t)\n",
    "        lab = ','.join([str(x) for x in np.round(df_inhib[sel].value, 2)])\n",
    "        pertlabels[cl][(i.replace('BioAkt', \"AKT1\"), \n",
    "                        t.replace('BioAkt', \"AKT1\").strip())] = lab\n"
   ]
  },
  {
   "cell_type": "code",
   "execution_count": 35,
   "metadata": {
    "Collapsed": "false"
   },
   "outputs": [],
   "source": [
    "g_wt   = cnr.cnrplot.graph_from_sol(sol, \"wt\", 1.5)\n",
    "g_pi3k = cnr.cnrplot.graph_from_sol(sol, \"pi3k\", 1.5)\n",
    "\n",
    "\n",
    "def flatten_list(lst):\n",
    "    \"\"\"Flatten list of lists.\"\"\"\n",
    "    return [item for sublist in lst for item in sublist]\n",
    "\n",
    "\n",
    "perturbation_nodes = set(flatten_list(sol.perts))\n",
    "deviations = [i.split(\"_\")[1] for i in sol.deviations_overview().index]\n",
    "nodes_drop = (perturbation_nodes - set(deviations))\n",
    "\n",
    "g = write_perturbation_gml(\n",
    "    g_wt,\n",
    "    \"../results/perturbations/cnr/wt-network.gml\",\n",
    "    pertlabels['wt'],\n",
    "    maxwidth=10.,\n",
    "    weigth_cutoff = 0.,\n",
    "    nodes_drop = nodes_drop,\n",
    "    given_edges = GIVEN_EDGES\n",
    ")\n",
    "\n",
    "write_perturbation_gml(\n",
    "    g_pi3k,\n",
    "    \"../results/perturbations/cnr/pi3k-network.gml\",\n",
    "    pertlabels['pi3k'],\n",
    "    maxwidth=10.,\n",
    "    weigth_cutoff = 0.,\n",
    "    nodes_drop = nodes_drop,\n",
    "    given_edges = GIVEN_EDGES\n",
    ")\n",
    "\n",
    "\n",
    "g = write_perturbation_combined_gml(\n",
    "    sol,\n",
    "    \"../results/perturbations/cnr/combined-network.gml\",\n",
    "    pertlabels['wt'],\n",
    "    maxwidth=10.,\n",
    "    weigth_cutoff = 0.,\n",
    "    nodes_drop = nodes_drop,\n",
    "    given_edges = GIVEN_EDGES\n",
    ")\n"
   ]
  },
  {
   "cell_type": "markdown",
   "metadata": {
    "Collapsed": "false"
   },
   "source": [
    "# Evaluate full model fit\n",
    "\n",
    "In another notebook we parametrized a model relating AKT and ERK response to viability of the following form:\n",
    "\n",
    "$$\\mathrm{viability} \\sim \\frac{1}{1-\\Delta ERK1/KM_{ERK1}-{\\Delta AKT/KM_{AKT}}}$$\n",
    "\n",
    "and fitted the parameters $KM_{ERK}$ and $KM_{AKT}$.\n",
    "\n",
    "\n",
    "Finally, we combine the signaling network and viability model to see how well the complete model fits the perturbation data.\n",
    "\n",
    "First, we need to import the viability data and the obtained parameters.\n"
   ]
  },
  {
   "cell_type": "code",
   "execution_count": 30,
   "metadata": {
    "Collapsed": "false"
   },
   "outputs": [
    {
     "data": {
      "text/html": [
       "<div>\n",
       "<style scoped>\n",
       "    .dataframe tbody tr th:only-of-type {\n",
       "        vertical-align: middle;\n",
       "    }\n",
       "\n",
       "    .dataframe tbody tr th {\n",
       "        vertical-align: top;\n",
       "    }\n",
       "\n",
       "    .dataframe thead th {\n",
       "        text-align: right;\n",
       "    }\n",
       "</style>\n",
       "<table border=\"1\" class=\"dataframe\">\n",
       "  <thead>\n",
       "    <tr style=\"text-align: right;\">\n",
       "      <th></th>\n",
       "      <th></th>\n",
       "      <th>Viability</th>\n",
       "      <th>NormalizedViability</th>\n",
       "    </tr>\n",
       "    <tr>\n",
       "      <th>cell_line</th>\n",
       "      <th>inhibitor</th>\n",
       "      <th></th>\n",
       "      <th></th>\n",
       "    </tr>\n",
       "  </thead>\n",
       "  <tbody>\n",
       "    <tr>\n",
       "      <th rowspan=\"5\" valign=\"top\">pi3k</th>\n",
       "      <th>AKTi035uM</th>\n",
       "      <td>14783.333333</td>\n",
       "      <td>0.647146</td>\n",
       "    </tr>\n",
       "    <tr>\n",
       "      <th>AKTi035uM_mTORi000475uM</th>\n",
       "      <td>11035.500000</td>\n",
       "      <td>0.445108</td>\n",
       "    </tr>\n",
       "    <tr>\n",
       "      <th>AKTi1uM</th>\n",
       "      <td>11660.666667</td>\n",
       "      <td>0.478810</td>\n",
       "    </tr>\n",
       "    <tr>\n",
       "      <th>AKTi1uM_mTORi001uM</th>\n",
       "      <td>8131.333333</td>\n",
       "      <td>0.288551</td>\n",
       "    </tr>\n",
       "    <tr>\n",
       "      <th>AKTi5uM</th>\n",
       "      <td>6429.833333</td>\n",
       "      <td>0.196827</td>\n",
       "    </tr>\n",
       "  </tbody>\n",
       "</table>\n",
       "</div>"
      ],
      "text/plain": [
       "                                      Viability  NormalizedViability\n",
       "cell_line inhibitor                                                 \n",
       "pi3k      AKTi035uM                14783.333333             0.647146\n",
       "          AKTi035uM_mTORi000475uM  11035.500000             0.445108\n",
       "          AKTi1uM                  11660.666667             0.478810\n",
       "          AKTi1uM_mTORi001uM        8131.333333             0.288551\n",
       "          AKTi5uM                   6429.833333             0.196827"
      ]
     },
     "execution_count": 30,
     "metadata": {},
     "output_type": "execute_result"
    }
   ],
   "source": [
    "mapping_combined = {\n",
    "    'wt':{'KM_ERK': KM_ERK_WT, 'KM_AKT': KM_AKT_WT},\n",
    "    'pi3k':{'KM_ERK': KM_ERK_PI3K, 'KM_AKT': KM_AKT_PI3K}\n",
    "}\n",
    "\n",
    "wt_viability = pd.read_csv(\"../results/perturbations/wt-envision.tsv\", \n",
    "                           sep=\"\\t\", index_col=0)\n",
    "pi3k_viability = pd.read_csv(\"../results/perturbations/pi3k-envision.tsv\", \n",
    "                             sep=\"\\t\", index_col=0)\n",
    "\n",
    "responses = df_fit.pivot_table(\n",
    "    index=['cell_line','inhibitor'], columns='node', values='fitted'\n",
    ")[['BioAkt', 'ERK1', 'EGFR']]\n",
    "\n",
    "viabilities = pd.concat([wt_viability, pi3k_viability], keys=['wt', 'pi3k']).reset_index()\n",
    "viabilities.rename(\n",
    "    columns={'level_0': 'cell_line'}, inplace=True\n",
    ")\n",
    "viabilities[\"inhibitor\"] = [s.replace(\" \", \"\").replace(\"+\",\"_\").replace(\".\", \"\") for \n",
    "                         s in viabilities.Treatment]\n",
    "\n",
    "viabilities = viabilities.groupby(['cell_line', \"inhibitor\"]).mean()#.reset_index()\n",
    "viabilities.head()"
   ]
  },
  {
   "cell_type": "markdown",
   "metadata": {
    "Collapsed": "false"
   },
   "source": [
    "Next, we need to combine the Viability data with the signaling data, and make the predictions.\n"
   ]
  },
  {
   "cell_type": "code",
   "execution_count": 31,
   "metadata": {
    "Collapsed": "false"
   },
   "outputs": [
    {
     "data": {
      "text/html": [
       "<div>\n",
       "<style scoped>\n",
       "    .dataframe tbody tr th:only-of-type {\n",
       "        vertical-align: middle;\n",
       "    }\n",
       "\n",
       "    .dataframe tbody tr th {\n",
       "        vertical-align: top;\n",
       "    }\n",
       "\n",
       "    .dataframe thead th {\n",
       "        text-align: right;\n",
       "    }\n",
       "</style>\n",
       "<table border=\"1\" class=\"dataframe\">\n",
       "  <thead>\n",
       "    <tr style=\"text-align: right;\">\n",
       "      <th></th>\n",
       "      <th></th>\n",
       "      <th>PredictedViability</th>\n",
       "      <th>Viability</th>\n",
       "      <th>NormalizedViability</th>\n",
       "    </tr>\n",
       "    <tr>\n",
       "      <th>cell_line</th>\n",
       "      <th>inhibitor</th>\n",
       "      <th></th>\n",
       "      <th></th>\n",
       "      <th></th>\n",
       "    </tr>\n",
       "  </thead>\n",
       "  <tbody>\n",
       "    <tr>\n",
       "      <th rowspan=\"5\" valign=\"top\">pi3k</th>\n",
       "      <th>AKTi1uM</th>\n",
       "      <td>0.329775</td>\n",
       "      <td>11660.666667</td>\n",
       "      <td>0.478810</td>\n",
       "    </tr>\n",
       "    <tr>\n",
       "      <th>AKTi1uM_mTORi001uM</th>\n",
       "      <td>0.319935</td>\n",
       "      <td>8131.333333</td>\n",
       "      <td>0.288551</td>\n",
       "    </tr>\n",
       "    <tr>\n",
       "      <th>AKTi5uM</th>\n",
       "      <td>0.205679</td>\n",
       "      <td>6429.833333</td>\n",
       "      <td>0.196827</td>\n",
       "    </tr>\n",
       "    <tr>\n",
       "      <th>EGFRi03uM</th>\n",
       "      <td>0.524112</td>\n",
       "      <td>14815.500000</td>\n",
       "      <td>0.648880</td>\n",
       "    </tr>\n",
       "    <tr>\n",
       "      <th>EGFRi03uM_AKTi1uM</th>\n",
       "      <td>0.253784</td>\n",
       "      <td>13295.166667</td>\n",
       "      <td>0.566922</td>\n",
       "    </tr>\n",
       "  </tbody>\n",
       "</table>\n",
       "</div>"
      ],
      "text/plain": [
       "                              PredictedViability     Viability  \\\n",
       "cell_line inhibitor                                              \n",
       "pi3k      AKTi1uM                       0.329775  11660.666667   \n",
       "          AKTi1uM_mTORi001uM            0.319935   8131.333333   \n",
       "          AKTi5uM                       0.205679   6429.833333   \n",
       "          EGFRi03uM                     0.524112  14815.500000   \n",
       "          EGFRi03uM_AKTi1uM             0.253784  13295.166667   \n",
       "\n",
       "                              NormalizedViability  \n",
       "cell_line inhibitor                                \n",
       "pi3k      AKTi1uM                        0.478810  \n",
       "          AKTi1uM_mTORi001uM             0.288551  \n",
       "          AKTi5uM                        0.196827  \n",
       "          EGFRi03uM                      0.648880  \n",
       "          EGFRi03uM_AKTi1uM              0.566922  "
      ]
     },
     "execution_count": 31,
     "metadata": {},
     "output_type": "execute_result"
    }
   ],
   "source": [
    "inhib_concentration_annotation = (df_inhib[[\"pert_name\",\"inhibitor\", \n",
    "                                            \"normalized_concentration\"]].\n",
    "                                  drop_duplicates().set_index('pert_name'))\n",
    "inhib_concentration_annotation.index = [re.sub('akt|mek|ds|mtorc1|mtorc2', '', s) for s in \n",
    "                                        inhib_concentration_annotation.index]\n",
    "# Get inhibitors and concentrations from perturbation name \n",
    "def get_treatment_from_name(treatment_name):\n",
    "    \"\"\"\n",
    "    Input: e.g. AKTi1uM_mTORi001uM\n",
    "    Output: {AKTi:1, mTOR:0.01, EGFRi:0, MEKi: 0, ect}\n",
    "    \"\"\"\n",
    "    # Inititize dict with all zeros\n",
    "    treatment = {i:0 for i in INHIBITORS}\n",
    "    \n",
    "    # Get applied inhibitors + concentration\n",
    "    tmp = inhib_concentration_annotation.loc[treatment_name.split(\"_\")]\n",
    "    tmp = dict(zip(tmp.inhibitor, tmp.normalized_concentration))\n",
    "    for key, val in tmp.items():\n",
    "        treatment[key] = val\n",
    "    return treatment\n",
    "\n",
    "# Get RGlob from treatment\n",
    "def get_response_from_treatment(treatment):\n",
    "    \"\"\"\n",
    "    Input: e.g. {AKTi:1, mTOR:0.01, EGFRi:0, MEKi: 0, ect}\n",
    "    output: dict with series with predicted log-fold change\n",
    "    \"\"\"\n",
    "    response = dict()\n",
    "    for cl in [\"wt\", \"pi3k\"]:\n",
    "        response[cl] = pd.Series(\n",
    "            [r.subs(treatment) for r in response_symbolic[cl]], index=NODES)\n",
    "    return response\n",
    "\n",
    "\n",
    "# Get viability from treatment name\n",
    "def predict_viability(treatment_name, param_mapping = mapping_combined):\n",
    "    \"\"\"Get the predicted viability \"\"\"\n",
    "    # TODO Update these\n",
    "    # Parameters to use  \n",
    "        \n",
    "    # Get the predicted respone from signaling \n",
    "    treatment = get_treatment_from_name(treatment_name)\n",
    "    response = get_response_from_treatment(treatment)\n",
    "       \n",
    "    # Calculate the corresponding viability\n",
    "    predicted_viability = dict()\n",
    "    for cl in ['wt', 'pi3k']:\n",
    "        ERK1 = response[cl]['ERK1']\n",
    "        BioAkt = response[cl]['BioAkt']\n",
    "        KM_ERK = param_mapping[cl]['KM_ERK']\n",
    "        KM_AKT = param_mapping[cl]['KM_AKT']\n",
    "        \n",
    "        predicted_viability[cl] = 1 / (1 - ERK1/KM_ERK -BioAkt/KM_AKT)\n",
    "        \n",
    "    return predicted_viability\n",
    "\n",
    "\n",
    "treatments_lst = set(viabilities.index.get_level_values(1))\n",
    "\n",
    "tmp = dict()\n",
    "for treatment_name in list(sol.rpert['wt'].columns):\n",
    "    tmp[treatment_name] = predict_viability(treatment_name)\n",
    "tmp = pd.DataFrame.from_dict(tmp)\n",
    "tmp.index.name = 'cell_line'\n",
    "tmp = tmp.reset_index()\n",
    "tmp = tmp.melt(id_vars='cell_line', var_name = 'inhibitor', \n",
    "               value_name='PredictedViability')\n",
    "tmp = tmp.set_index(['cell_line', 'inhibitor']).sort_index()\n",
    "tmp.PredictedViability = tmp.PredictedViability.astype('float64')\n",
    "# # Add to the measured viabilities data frame\n",
    "viabilities_predictions = tmp.join(viabilities)\n",
    "\n",
    "viabilities_predictions.head()"
   ]
  },
  {
   "cell_type": "code",
   "execution_count": 32,
   "metadata": {
    "Collapsed": "false"
   },
   "outputs": [
    {
     "data": {
      "text/html": [
       "<div>\n",
       "<style scoped>\n",
       "    .dataframe tbody tr th:only-of-type {\n",
       "        vertical-align: middle;\n",
       "    }\n",
       "\n",
       "    .dataframe tbody tr th {\n",
       "        vertical-align: top;\n",
       "    }\n",
       "\n",
       "    .dataframe thead th {\n",
       "        text-align: right;\n",
       "    }\n",
       "</style>\n",
       "<table border=\"1\" class=\"dataframe\">\n",
       "  <thead>\n",
       "    <tr style=\"text-align: right;\">\n",
       "      <th></th>\n",
       "      <th>NormalizedViability</th>\n",
       "      <th>PredictedViability</th>\n",
       "    </tr>\n",
       "  </thead>\n",
       "  <tbody>\n",
       "    <tr>\n",
       "      <th>NormalizedViability</th>\n",
       "      <td>1.000000</td>\n",
       "      <td>0.713717</td>\n",
       "    </tr>\n",
       "    <tr>\n",
       "      <th>PredictedViability</th>\n",
       "      <td>0.713717</td>\n",
       "      <td>1.000000</td>\n",
       "    </tr>\n",
       "  </tbody>\n",
       "</table>\n",
       "</div>"
      ],
      "text/plain": [
       "                     NormalizedViability  PredictedViability\n",
       "NormalizedViability             1.000000            0.713717\n",
       "PredictedViability              0.713717            1.000000"
      ]
     },
     "execution_count": 32,
     "metadata": {},
     "output_type": "execute_result"
    }
   ],
   "source": [
    "viabilities_predictions[['NormalizedViability', 'PredictedViability']].corr(method='spearman')"
   ]
  },
  {
   "cell_type": "code",
   "execution_count": 33,
   "metadata": {
    "Collapsed": "false"
   },
   "outputs": [
    {
     "data": {
      "text/html": [
       "<div>\n",
       "<style scoped>\n",
       "    .dataframe tbody tr th:only-of-type {\n",
       "        vertical-align: middle;\n",
       "    }\n",
       "\n",
       "    .dataframe tbody tr th {\n",
       "        vertical-align: top;\n",
       "    }\n",
       "\n",
       "    .dataframe thead th {\n",
       "        text-align: right;\n",
       "    }\n",
       "</style>\n",
       "<table border=\"1\" class=\"dataframe\">\n",
       "  <thead>\n",
       "    <tr style=\"text-align: right;\">\n",
       "      <th></th>\n",
       "      <th>NormalizedViability</th>\n",
       "      <th>PredictedViability</th>\n",
       "    </tr>\n",
       "  </thead>\n",
       "  <tbody>\n",
       "    <tr>\n",
       "      <th>NormalizedViability</th>\n",
       "      <td>1.000000</td>\n",
       "      <td>0.775241</td>\n",
       "    </tr>\n",
       "    <tr>\n",
       "      <th>PredictedViability</th>\n",
       "      <td>0.775241</td>\n",
       "      <td>1.000000</td>\n",
       "    </tr>\n",
       "  </tbody>\n",
       "</table>\n",
       "</div>"
      ],
      "text/plain": [
       "                     NormalizedViability  PredictedViability\n",
       "NormalizedViability             1.000000            0.775241\n",
       "PredictedViability              0.775241            1.000000"
      ]
     },
     "execution_count": 33,
     "metadata": {},
     "output_type": "execute_result"
    }
   ],
   "source": [
    "viabilities_predictions[['NormalizedViability', 'PredictedViability']].corr(method='pearson')"
   ]
  },
  {
   "cell_type": "markdown",
   "metadata": {
    "Collapsed": "false"
   },
   "source": [
    "Finally, let's also visualize this."
   ]
  },
  {
   "cell_type": "code",
   "execution_count": 34,
   "metadata": {
    "Collapsed": "false"
   },
   "outputs": [
    {
     "data": {
      "image/png": "[encoded data removed]",
      "text/plain": [
       "<Figure size 255.118x170.079 with 1 Axes>"
      ]
     },
     "metadata": {
      "needs_background": "light"
     },
     "output_type": "display_data"
    }
   ],
   "source": [
    "label_dict = {'wt': \"Parental\", 'pi3k': \"PI3K$^{H1047R}$\"}\n",
    "fig, ax = plt.subplots(figsize=cm2inch(9.,6))\n",
    "\n",
    "# Add identity\n",
    "ax.plot(ax.get_xlim(), ax.get_ylim(), ls=\"-\", c=\"gray\", linewidth=0.5)    \n",
    "\n",
    "for cl in ['wt', 'pi3k']:\n",
    "    plt.plot(\n",
    "        list(viabilities_predictions.loc[cl].NormalizedViability),\n",
    "        list(viabilities_predictions.loc[cl].PredictedViability),\n",
    "        marker = '.', color = col_dict[cl], markersize = 4,\n",
    "        linestyle = '',\n",
    "        label = label_dict[cl]\n",
    "    )\n",
    "\n",
    "#removing top and right borders\n",
    "ax.spines['top'].set_visible(False)\n",
    "ax.spines['right'].set_visible(False)\n",
    "\n",
    "#adds major gridlines\n",
    "ax.grid(color='lightgrey', linestyle='-', linewidth=0.25)\n",
    "\n",
    "# Plot Legend\n",
    "#ax.legend(ncol = 2, bbox_to_anchor=(1, -0.9))\n",
    "\n",
    "# Axis labels and title\n",
    "plt.xlabel(\"Measured viability\")\n",
    "plt.ylabel(\"Fitted viability\")\n",
    "plt.tight_layout()\n",
    "#plt.savefig('../figures/correlations-and-predictions/combined-model-fit.pdf')"
   ]
  },
  {
   "cell_type": "markdown",
   "metadata": {
    "Collapsed": "false"
   },
   "source": [
    "What is the standard deviation and the mean of the residuals?"
   ]
  },
  {
   "cell_type": "code",
   "execution_count": 49,
   "metadata": {
    "Collapsed": "false"
   },
   "outputs": [],
   "source": [
    "residuals = viabilities_predictions.PredictedViability - viabilities_predictions.NormalizedViability"
   ]
  },
  {
   "cell_type": "code",
   "execution_count": 51,
   "metadata": {
    "Collapsed": "false"
   },
   "outputs": [
    {
     "data": {
      "text/plain": [
       "0.006997496214405535"
      ]
     },
     "execution_count": 51,
     "metadata": {},
     "output_type": "execute_result"
    }
   ],
   "source": [
    "statistics.mean(list(residuals))"
   ]
  },
  {
   "cell_type": "code",
   "execution_count": 52,
   "metadata": {
    "Collapsed": "false"
   },
   "outputs": [
    {
     "data": {
      "text/plain": [
       "0.17335308291562568"
      ]
     },
     "execution_count": 52,
     "metadata": {},
     "output_type": "execute_result"
    }
   ],
   "source": [
    "statistics.stdev(list(residuals))"
   ]
  }
 ],
 "metadata": {
  "kernelspec": {
   "display_name": "Python [conda env:mcf10a-pi3k]",
   "language": "python",
   "name": "conda-env-mcf10a-pi3k-py"
  },
  "language_info": {
   "codemirror_mode": {
    "name": "ipython",
    "version": 3
   },
   "file_extension": ".py",
   "mimetype": "text/x-python",
   "name": "python",
   "nbconvert_exporter": "python",
   "pygments_lexer": "ipython3",
   "version": "3.6.9"
  }
 },
 "nbformat": 4,
 "nbformat_minor": 4
}
